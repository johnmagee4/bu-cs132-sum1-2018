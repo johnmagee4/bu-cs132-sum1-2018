{
 "cells": [
  {
   "cell_type": "markdown",
   "metadata": {
    "internals": {
     "slide_type": "subslide"
    },
    "slideshow": {
     "slide_type": "slide"
    }
   },
   "source": [
    "#  $A{\\bf x} = {\\bf b}$"
   ]
  },
  {
   "cell_type": "code",
   "execution_count": 1,
   "metadata": {
    "collapsed": false,
    "internals": {},
    "slideshow": {
     "slide_type": "skip"
    }
   },
   "outputs": [
    {
     "name": "stdout",
     "output_type": "stream",
     "text": [
      "\n"
     ]
    }
   ],
   "source": [
    "#%matplotlib inline\n",
    "#%config InlineBackend.figure_format='retina'\n",
    "# import libraries\n",
    "import numpy as np\n",
    "import matplotlib as mp\n",
    "mp.use('nbagg')\n",
    "import pandas as pd\n",
    "import matplotlib.pyplot as plt\n",
    "import laUtilities as ut\n",
    "import slideUtilities as sl\n",
    "import demoUtilities as dm\n",
    "import pandas as pd\n",
    "from importlib import reload\n",
    "from datetime import datetime\n",
    "from IPython.display import Image\n",
    "from IPython.display import display_html\n",
    "from IPython.display import display\n",
    "from IPython.display import Math\n",
    "from IPython.display import Latex\n",
    "from IPython.display import HTML\n",
    "reload(sl)\n",
    "print('')"
   ]
  },
  {
   "cell_type": "code",
   "execution_count": 2,
   "metadata": {
    "collapsed": false,
    "internals": {
     "slide_helper": "subslide_end"
    },
    "slide_helper": "slide_end",
    "slideshow": {
     "slide_type": "skip"
    }
   },
   "outputs": [
    {
     "data": {
      "text/html": [
       "<style>\n",
       " .container.slides .celltoolbar, .container.slides .hide-in-slideshow {\n",
       "    display: None ! important;\n",
       "}\n",
       "</style>"
      ],
      "text/plain": [
       "<IPython.core.display.HTML object>"
      ]
     },
     "metadata": {},
     "output_type": "display_data"
    }
   ],
   "source": [
    "%%html\n",
    "<style>\n",
    " .container.slides .celltoolbar, .container.slides .hide-in-slideshow {\n",
    "    display: None ! important;\n",
    "}\n",
    "</style>"
   ]
  },
  {
   "cell_type": "markdown",
   "metadata": {
    "slideshow": {
     "slide_type": "skip"
    }
   },
   "source": [
    "%Set up useful MathJax (Latex) macros.\n",
    "%See http://docs.mathjax.org/en/latest/tex.html#defining-tex-macros\n",
    "%These are for use in the slideshow\n",
    "$\\newcommand{\\mat}[1]{\\left[\\begin{array}#1\\end{array}\\right]}$\n",
    "$\\newcommand{\\vx}{{\\mathbf x}}$\n",
    "$\\newcommand{\\hx}{\\hat{\\mathbf x}}$\n",
    "$\\newcommand{\\vbt}{{\\mathbf\\beta}}$\n",
    "$\\newcommand{\\vy}{{\\mathbf y}}$\n",
    "$\\newcommand{\\vz}{{\\mathbf z}}$\n",
    "$\\newcommand{\\R}{{\\mathbb{R}}}$\n",
    "$\\newcommand{\\vu}{{\\mathbf u}}$\n",
    "$\\newcommand{\\vv}{{\\mathbf v}}$\n",
    "$\\newcommand{\\vw}{{\\mathbf w}}$\n",
    "$\\newcommand{\\col}{{\\operatorname{Col}}}$\n",
    "$\\newcommand{\\nul}{{\\operatorname{Nul}}}$\n",
    "$\\newcommand{\\vb}{{\\mathbf b}}$\n",
    "$\\newcommand{\\va}{{\\mathbf a}}$\n",
    "$\\newcommand{\\ve}{{\\mathbf e}}$\n",
    "$\\newcommand{\\setb}{{\\mathcal{B}}}$\n",
    "$\\newcommand{\\rank}{{\\operatorname{rank}}}$\n",
    "$\\newcommand{\\vp}{{\\mathbf p}}$"
   ]
  },
  {
   "cell_type": "raw",
   "metadata": {
    "slideshow": {
     "slide_type": "skip"
    }
   },
   "source": [
    "\\newcommand{\\mat}[1]{\\left[\\begin{array}#1\\end{array}\\right]}\n",
    "\\newcommand{\\vx}{{\\mathbf x}}\n",
    "\\newcommand{\\hx}{\\hat{\\mathbf x}}\n",
    "\\newcommand{\\vbt}{{\\mathbf\\beta}}\n",
    "\\newcommand{\\vy}{{\\mathbf y}}\n",
    "\\newcommand{\\vz}{{\\mathbf z}}\n",
    "\\newcommand{\\vb}{{\\mathbf b}}\n",
    "\\newcommand{\\vu}{{\\mathbf u}}\n",
    "\\newcommand{\\vv}{{\\mathbf v}}\n",
    "\\newcommand{\\vw}{{\\mathbf w}}\n",
    "\\newcommand{\\va}{{\\mathbf a}}\n",
    "\\newcommand{\\ve}{{\\mathbf e}}\n",
    "\\newcommand{\\vp}{{\\mathbf p}}\n",
    "\\newcommand{\\R}{{\\mathbb{R}}}\n",
    "\\newcommand{\\col}{{\\operatorname{Col}}}\n",
    "\\newcommand{\\nul}{{\\operatorname{Nul}}}\n",
    "\\newcommand{\\rank}{{\\operatorname{rank}}}\n",
    "\\newcommand{\\setb}{{\\mathcal{B}}}"
   ]
  },
  {
   "cell_type": "markdown",
   "metadata": {
    "internals": {
     "slide_type": "subslide"
    },
    "slideshow": {
     "slide_type": "slide"
    }
   },
   "source": [
    "## Multiplying a Matrix by a Vector"
   ]
  },
  {
   "cell_type": "markdown",
   "metadata": {
    "internals": {},
    "slideshow": {
     "slide_type": "-"
    }
   },
   "source": [
    "Last lecture we studied the vector equation:\n",
    "\n",
    "$$ x_1{\\bf a_1} + x_2{\\bf a_2} + ... + x_n{\\bf a_n} = {\\bf b}.$$"
   ]
  },
  {
   "cell_type": "markdown",
   "metadata": {
    "internals": {},
    "slideshow": {
     "slide_type": "fragment"
    }
   },
   "source": [
    "We also talked about how one can form a matrix from a set of vectors:\n",
    "\n",
    "$$ A = [{\\bf a_1} \\; {\\bf a_2} \\; ... \\;{\\bf a_n}].$$"
   ]
  },
  {
   "cell_type": "markdown",
   "metadata": {
    "internals": {
     "frag_number": 6
    },
    "slideshow": {
     "slide_type": "fragment"
    }
   },
   "source": [
    "In particular, if we have $n$ vectors ${\\bf a_1},{\\bf a_2}, ..., {\\bf a_n} \\in \\mathbb{R}^m,$ then $A$ will be an $m \\times n$ matrix:\n",
    "\n",
    "$$ m\\left\\{\\begin{array}{c}\\;\\\\\\;\\\\\\;\\\\\\;\\\\\\;\\end{array}\\right.\\;\\;\\overbrace{\\left[\\begin{array}{cccc}\\begin{array}{c}\\vdots\\\\\\vdots\\\\{\\bf a_1}\\\\\\vdots\\\\\\vdots\\end{array}&\\begin{array}{c}\\vdots\\\\\\vdots\\\\{\\bf a_2}\\\\\\vdots\\\\\\vdots\\end{array}&\\dots&\\begin{array}{c}\\vdots\\\\\\vdots\\\\{\\bf a_n}\\\\\\vdots\\\\\\vdots\\end{array}\\\\\\end{array}\\right]}^{\\large n} $$"
   ]
  },
  {
   "cell_type": "markdown",
   "metadata": {
    "internals": {
     "frag_helper": "fragment_end",
     "frag_number": 7
    },
    "slideshow": {
     "slide_type": "fragment"
    }
   },
   "source": [
    "We're going to express a vector equation in a new way.  We are going to say that \n",
    "\n",
    "$$x_1{\\bf a_1} + x_2{\\bf a_2} + ... + x_n{\\bf a_n}$$\n",
    "\n",
    "is the same as:\n",
    "\n",
    "$$A{\\bf x}$$"
   ]
  },
  {
   "cell_type": "markdown",
   "metadata": {
    "internals": {
     "frag_helper": "fragment_end",
     "frag_number": 8
    },
    "slideshow": {
     "slide_type": "fragment"
    }
   },
   "source": [
    "where $A = \\left[\\begin{array}{cccc}\\begin{array}{c}\\vdots\\\\\\vdots\\\\{\\bf a_1}\\\\\\vdots\\\\\\vdots\\end{array}&\\begin{array}{c}\\vdots\\\\\\vdots\\\\{\\bf a_2}\\\\\\vdots\\\\\\vdots\\end{array}&\\dots&\\begin{array}{c}\\vdots\\\\\\vdots\\\\{\\bf a_n}\\\\\\vdots\\\\\\vdots\\end{array}\\\\\\end{array}\\right]$ and ${\\bf x} = \\left[\\begin{array}{c}x_1\\\\x_2\\\\\\vdots\\\\x_n\\end{array}\\right].$"
   ]
  },
  {
   "cell_type": "markdown",
   "metadata": {
    "internals": {
     "frag_helper": "fragment_end",
     "frag_number": 9
    },
    "slideshow": {
     "slide_type": "fragment"
    }
   },
   "source": [
    "What we have done is to define __Matrix-vector multiplication__.  \n",
    "\n",
    "That is, $A{\\bf x}$ denotes multiplying a matrix and a vector, and we define it to be the same as a linear combination of the $\\{\\bf a_1, a_2, \\dots, a_n\\}$ with weights $x_1, x_2, \\dots, x_n.$"
   ]
  },
  {
   "cell_type": "markdown",
   "metadata": {
    "slideshow": {
     "slide_type": "fragment"
    }
   },
   "source": [
    "Here is the definition: \n",
    "\n",
    "If $A$ is an $m\\times n$ matrix, with columns $\\bf a_1, a_2, \\dots, a_n,$ and if ${\\bf x} \\in \\mathbb{R}^n,$ then the __product of $A$ and $\\bf x$,__ denoted $A{\\bf x}$, is __the linear combination of the columns of $A$ using the corresponding entries in $x$ as weights;__ that is,"
   ]
  },
  {
   "cell_type": "markdown",
   "metadata": {
    "internals": {
     "frag_helper": "fragment_end",
     "frag_number": 10
    },
    "slideshow": {
     "slide_type": "fragment"
    }
   },
   "source": [
    "$$ A{\\bf x} = [{\\bf a_1} \\; {\\bf a_2} \\; ... \\;{\\bf a_n}]\\;\\left[\\begin{array}{c}x_1\\\\x_2\\\\\\vdots\\\\x_n\\end{array}\\right] = x_1{\\bf a_1} + x_2{\\bf a_2} + ... + x_n{\\bf a_n}.$$"
   ]
  },
  {
   "cell_type": "markdown",
   "metadata": {
    "internals": {
     "frag_helper": "fragment_end",
     "frag_number": 10,
     "slide_helper": "subslide_end"
    },
    "slide_helper": "slide_end",
    "slideshow": {
     "slide_type": "fragment"
    }
   },
   "source": [
    "Notice that if $A$ is an $m\\times n$ matrix, then ${\\bf x}$ must be in $\\mathbb{R}^n$ in order for this operation to be defined.  That is, the number of __columns__ of $A$ must match the number of __rows__ of ${\\bf x}.$\n",
    "\n",
    "If the number of columns of $A$ does not match the number of rows of ${\\bf x}$, then $A{\\bf x}$ has no meaning."
   ]
  },
  {
   "cell_type": "markdown",
   "metadata": {
    "internals": {
     "frag_helper": "fragment_end",
     "frag_number": 10,
     "slide_type": "subslide"
    },
    "slideshow": {
     "slide_type": "slide"
    }
   },
   "source": [
    "## Example."
   ]
  },
  {
   "cell_type": "markdown",
   "metadata": {
    "internals": {
     "frag_helper": "fragment_end",
     "frag_number": 10
    },
    "slideshow": {
     "slide_type": "-"
    }
   },
   "source": [
    "$$\\left[\\begin{array}{rrr}1&2&-1\\\\0&-5&3\\end{array}\\right]\\;\\left[\\begin{array}{r}4\\\\3\\\\7\\end{array}\\right] =$$"
   ]
  },
  {
   "cell_type": "markdown",
   "metadata": {
    "internals": {
     "frag_helper": "fragment_end",
     "frag_number": 14
    },
    "slideshow": {
     "slide_type": "fragment"
    }
   },
   "source": [
    "$$ 4\\left[\\begin{array}{r}1\\\\0\\end{array}\\right] + 3\\left[\\begin{array}{r}2\\\\-5\\end{array}\\right] + 7\\left[\\begin{array}{r}-1\\\\3\\end{array}\\right] \n",
    "= $$"
   ]
  },
  {
   "cell_type": "markdown",
   "metadata": {
    "internals": {
     "frag_helper": "fragment_end",
     "frag_number": 15
    },
    "slideshow": {
     "slide_type": "fragment"
    }
   },
   "source": [
    "$$\\left[\\begin{array}{r}4\\\\0\\end{array}\\right] + \\left[\\begin{array}{r}6\\\\-15\\end{array}\\right]+ \\left[\\begin{array}{r}-7\\\\21\\end{array}\\right] = $$"
   ]
  },
  {
   "cell_type": "markdown",
   "metadata": {
    "internals": {
     "frag_helper": "fragment_end",
     "frag_number": 16,
     "slide_helper": "subslide_end"
    },
    "slide_helper": "slide_end",
    "slideshow": {
     "slide_type": "fragment"
    }
   },
   "source": [
    "$$\\left[\\begin{array}{r}3\\\\6\\end{array}\\right] $$"
   ]
  },
  {
   "cell_type": "markdown",
   "metadata": {
    "internals": {
     "frag_helper": "fragment_end",
     "frag_number": 16,
     "slide_type": "subslide"
    },
    "slideshow": {
     "slide_type": "slide"
    }
   },
   "source": [
    "## Example."
   ]
  },
  {
   "cell_type": "markdown",
   "metadata": {
    "internals": {
     "frag_helper": "fragment_end",
     "frag_number": 16
    },
    "slideshow": {
     "slide_type": "-"
    }
   },
   "source": [
    "For ${\\bf v_1}, {\\bf v_2}, {\\bf v_3} \\in \\mathbb{R}^m,$ write the linear combination $3{\\bf v_1} + 5{\\bf v_2} + 7{\\bf v_3}$ as a matrix times a vector."
   ]
  },
  {
   "cell_type": "markdown",
   "metadata": {
    "internals": {
     "frag_helper": "fragment_end",
     "frag_number": 19,
     "slide_helper": "subslide_end"
    },
    "slide_helper": "slide_end",
    "slideshow": {
     "slide_type": "fragment"
    }
   },
   "source": [
    "$$3{\\bf v_1} + 5{\\bf v_2} + 7{\\bf v_3} = [{\\bf v_1} \\; {\\bf v_2} \\; {\\bf v_3}]\\;\\left[\\begin{array}{c}3\\\\5\\\\7\\end{array}\\right] = A{\\bf x}.$$"
   ]
  },
  {
   "cell_type": "markdown",
   "metadata": {
    "internals": {
     "frag_helper": "fragment_end",
     "frag_number": 19,
     "slide_type": "subslide"
    },
    "slideshow": {
     "slide_type": "slide"
    }
   },
   "source": [
    "Notice that if $A = [{\\bf a_1} \\; {\\bf a_2} \\; ... \\;{\\bf a_n}]$ then $A{\\bf x}$ is some point that lies in Span$\\{{\\bf a_1},{\\bf a_2}, \\dots ,{\\bf a_n}\\}$."
   ]
  },
  {
   "cell_type": "code",
   "execution_count": 6,
   "metadata": {
    "collapsed": false,
    "internals": {
     "frag_helper": "fragment_end",
     "frag_number": 19,
     "slide_helper": "subslide_end"
    },
    "slide_helper": "slide_end",
    "slideshow": {
     "slide_type": "-"
    }
   },
   "outputs": [
    {
     "data": {
      "text/html": [
       "<div id=\"bbe2db69e9138f15\"></div>\n",
       "    <script type=\"text/javascript\">\n",
       "        $(function(){\n",
       "            var p = $(\"#bbe2db69e9138f15\");\n",
       "            if (p.length==0) return;\n",
       "\n",
       "            while (!p.hasClass(\"cell\")) {\n",
       "                p=p.parent();\n",
       "\n",
       "                if (p.prop(\"tagName\") ==\"body\") return;\n",
       "            }\n",
       "            var cell = p;\n",
       "            cell.find(\".input\").addClass(\"hide-in-slideshow\")\n",
       "        });\n",
       "    </script>"
      ]
     },
     "metadata": {},
     "output_type": "display_data"
    },
    {
     "data": {
      "application/javascript": [
       "/* Put everything inside the global mpl namespace */\n",
       "window.mpl = {};\n",
       "\n",
       "mpl.get_websocket_type = function() {\n",
       "    if (typeof(WebSocket) !== 'undefined') {\n",
       "        return WebSocket;\n",
       "    } else if (typeof(MozWebSocket) !== 'undefined') {\n",
       "        return MozWebSocket;\n",
       "    } else {\n",
       "        alert('Your browser does not have WebSocket support.' +\n",
       "              'Please try Chrome, Safari or Firefox ≥ 6. ' +\n",
       "              'Firefox 4 and 5 are also supported but you ' +\n",
       "              'have to enable WebSockets in about:config.');\n",
       "    };\n",
       "}\n",
       "\n",
       "mpl.figure = function(figure_id, websocket, ondownload, parent_element) {\n",
       "    this.id = figure_id;\n",
       "\n",
       "    this.ws = websocket;\n",
       "\n",
       "    this.supports_binary = (this.ws.binaryType != undefined);\n",
       "\n",
       "    if (!this.supports_binary) {\n",
       "        var warnings = document.getElementById(\"mpl-warnings\");\n",
       "        if (warnings) {\n",
       "            warnings.style.display = 'block';\n",
       "            warnings.textContent = (\n",
       "                \"This browser does not support binary websocket messages. \" +\n",
       "                    \"Performance may be slow.\");\n",
       "        }\n",
       "    }\n",
       "\n",
       "    this.imageObj = new Image();\n",
       "\n",
       "    this.context = undefined;\n",
       "    this.message = undefined;\n",
       "    this.canvas = undefined;\n",
       "    this.rubberband_canvas = undefined;\n",
       "    this.rubberband_context = undefined;\n",
       "    this.format_dropdown = undefined;\n",
       "\n",
       "    this.image_mode = 'full';\n",
       "\n",
       "    this.root = $('<div/>');\n",
       "    this._root_extra_style(this.root)\n",
       "    this.root.attr('style', 'display: inline-block');\n",
       "\n",
       "    $(parent_element).append(this.root);\n",
       "\n",
       "    this._init_header(this);\n",
       "    this._init_canvas(this);\n",
       "    this._init_toolbar(this);\n",
       "\n",
       "    var fig = this;\n",
       "\n",
       "    this.waiting = false;\n",
       "\n",
       "    this.ws.onopen =  function () {\n",
       "            fig.send_message(\"supports_binary\", {value: fig.supports_binary});\n",
       "            fig.send_message(\"send_image_mode\", {});\n",
       "            fig.send_message(\"refresh\", {});\n",
       "        }\n",
       "\n",
       "    this.imageObj.onload = function() {\n",
       "            if (fig.image_mode == 'full') {\n",
       "                // Full images could contain transparency (where diff images\n",
       "                // almost always do), so we need to clear the canvas so that\n",
       "                // there is no ghosting.\n",
       "                fig.context.clearRect(0, 0, fig.canvas.width, fig.canvas.height);\n",
       "            }\n",
       "            fig.context.drawImage(fig.imageObj, 0, 0);\n",
       "        };\n",
       "\n",
       "    this.imageObj.onunload = function() {\n",
       "        this.ws.close();\n",
       "    }\n",
       "\n",
       "    this.ws.onmessage = this._make_on_message_function(this);\n",
       "\n",
       "    this.ondownload = ondownload;\n",
       "}\n",
       "\n",
       "mpl.figure.prototype._init_header = function() {\n",
       "    var titlebar = $(\n",
       "        '<div class=\"ui-dialog-titlebar ui-widget-header ui-corner-all ' +\n",
       "        'ui-helper-clearfix\"/>');\n",
       "    var titletext = $(\n",
       "        '<div class=\"ui-dialog-title\" style=\"width: 100%; ' +\n",
       "        'text-align: center; padding: 3px;\"/>');\n",
       "    titlebar.append(titletext)\n",
       "    this.root.append(titlebar);\n",
       "    this.header = titletext[0];\n",
       "}\n",
       "\n",
       "\n",
       "\n",
       "mpl.figure.prototype._canvas_extra_style = function(canvas_div) {\n",
       "\n",
       "}\n",
       "\n",
       "\n",
       "mpl.figure.prototype._root_extra_style = function(canvas_div) {\n",
       "\n",
       "}\n",
       "\n",
       "mpl.figure.prototype._init_canvas = function() {\n",
       "    var fig = this;\n",
       "\n",
       "    var canvas_div = $('<div/>');\n",
       "\n",
       "    canvas_div.attr('style', 'position: relative; clear: both; outline: 0');\n",
       "\n",
       "    function canvas_keyboard_event(event) {\n",
       "        return fig.key_event(event, event['data']);\n",
       "    }\n",
       "\n",
       "    canvas_div.keydown('key_press', canvas_keyboard_event);\n",
       "    canvas_div.keyup('key_release', canvas_keyboard_event);\n",
       "    this.canvas_div = canvas_div\n",
       "    this._canvas_extra_style(canvas_div)\n",
       "    this.root.append(canvas_div);\n",
       "\n",
       "    var canvas = $('<canvas/>');\n",
       "    canvas.addClass('mpl-canvas');\n",
       "    canvas.attr('style', \"left: 0; top: 0; z-index: 0; outline: 0\")\n",
       "\n",
       "    this.canvas = canvas[0];\n",
       "    this.context = canvas[0].getContext(\"2d\");\n",
       "\n",
       "    var rubberband = $('<canvas/>');\n",
       "    rubberband.attr('style', \"position: absolute; left: 0; top: 0; z-index: 1;\")\n",
       "\n",
       "    var pass_mouse_events = true;\n",
       "\n",
       "    canvas_div.resizable({\n",
       "        start: function(event, ui) {\n",
       "            pass_mouse_events = false;\n",
       "        },\n",
       "        resize: function(event, ui) {\n",
       "            fig.request_resize(ui.size.width, ui.size.height);\n",
       "        },\n",
       "        stop: function(event, ui) {\n",
       "            pass_mouse_events = true;\n",
       "            fig.request_resize(ui.size.width, ui.size.height);\n",
       "        },\n",
       "    });\n",
       "\n",
       "    function mouse_event_fn(event) {\n",
       "        if (pass_mouse_events)\n",
       "            return fig.mouse_event(event, event['data']);\n",
       "    }\n",
       "\n",
       "    rubberband.mousedown('button_press', mouse_event_fn);\n",
       "    rubberband.mouseup('button_release', mouse_event_fn);\n",
       "    // Throttle sequential mouse events to 1 every 20ms.\n",
       "    rubberband.mousemove('motion_notify', mouse_event_fn);\n",
       "\n",
       "    rubberband.mouseenter('figure_enter', mouse_event_fn);\n",
       "    rubberband.mouseleave('figure_leave', mouse_event_fn);\n",
       "\n",
       "    canvas_div.on(\"wheel\", function (event) {\n",
       "        event = event.originalEvent;\n",
       "        event['data'] = 'scroll'\n",
       "        if (event.deltaY < 0) {\n",
       "            event.step = 1;\n",
       "        } else {\n",
       "            event.step = -1;\n",
       "        }\n",
       "        mouse_event_fn(event);\n",
       "    });\n",
       "\n",
       "    canvas_div.append(canvas);\n",
       "    canvas_div.append(rubberband);\n",
       "\n",
       "    this.rubberband = rubberband;\n",
       "    this.rubberband_canvas = rubberband[0];\n",
       "    this.rubberband_context = rubberband[0].getContext(\"2d\");\n",
       "    this.rubberband_context.strokeStyle = \"#000000\";\n",
       "\n",
       "    this._resize_canvas = function(width, height) {\n",
       "        // Keep the size of the canvas, canvas container, and rubber band\n",
       "        // canvas in synch.\n",
       "        canvas_div.css('width', width)\n",
       "        canvas_div.css('height', height)\n",
       "\n",
       "        canvas.attr('width', width);\n",
       "        canvas.attr('height', height);\n",
       "\n",
       "        rubberband.attr('width', width);\n",
       "        rubberband.attr('height', height);\n",
       "    }\n",
       "\n",
       "    // Set the figure to an initial 600x600px, this will subsequently be updated\n",
       "    // upon first draw.\n",
       "    this._resize_canvas(600, 600);\n",
       "\n",
       "    // Disable right mouse context menu.\n",
       "    $(this.rubberband_canvas).bind(\"contextmenu\",function(e){\n",
       "        return false;\n",
       "    });\n",
       "\n",
       "    function set_focus () {\n",
       "        canvas.focus();\n",
       "        canvas_div.focus();\n",
       "    }\n",
       "\n",
       "    window.setTimeout(set_focus, 100);\n",
       "}\n",
       "\n",
       "mpl.figure.prototype._init_toolbar = function() {\n",
       "    var fig = this;\n",
       "\n",
       "    var nav_element = $('<div/>')\n",
       "    nav_element.attr('style', 'width: 100%');\n",
       "    this.root.append(nav_element);\n",
       "\n",
       "    // Define a callback function for later on.\n",
       "    function toolbar_event(event) {\n",
       "        return fig.toolbar_button_onclick(event['data']);\n",
       "    }\n",
       "    function toolbar_mouse_event(event) {\n",
       "        return fig.toolbar_button_onmouseover(event['data']);\n",
       "    }\n",
       "\n",
       "    for(var toolbar_ind in mpl.toolbar_items) {\n",
       "        var name = mpl.toolbar_items[toolbar_ind][0];\n",
       "        var tooltip = mpl.toolbar_items[toolbar_ind][1];\n",
       "        var image = mpl.toolbar_items[toolbar_ind][2];\n",
       "        var method_name = mpl.toolbar_items[toolbar_ind][3];\n",
       "\n",
       "        if (!name) {\n",
       "            // put a spacer in here.\n",
       "            continue;\n",
       "        }\n",
       "        var button = $('<button/>');\n",
       "        button.addClass('ui-button ui-widget ui-state-default ui-corner-all ' +\n",
       "                        'ui-button-icon-only');\n",
       "        button.attr('role', 'button');\n",
       "        button.attr('aria-disabled', 'false');\n",
       "        button.click(method_name, toolbar_event);\n",
       "        button.mouseover(tooltip, toolbar_mouse_event);\n",
       "\n",
       "        var icon_img = $('<span/>');\n",
       "        icon_img.addClass('ui-button-icon-primary ui-icon');\n",
       "        icon_img.addClass(image);\n",
       "        icon_img.addClass('ui-corner-all');\n",
       "\n",
       "        var tooltip_span = $('<span/>');\n",
       "        tooltip_span.addClass('ui-button-text');\n",
       "        tooltip_span.html(tooltip);\n",
       "\n",
       "        button.append(icon_img);\n",
       "        button.append(tooltip_span);\n",
       "\n",
       "        nav_element.append(button);\n",
       "    }\n",
       "\n",
       "    var fmt_picker_span = $('<span/>');\n",
       "\n",
       "    var fmt_picker = $('<select/>');\n",
       "    fmt_picker.addClass('mpl-toolbar-option ui-widget ui-widget-content');\n",
       "    fmt_picker_span.append(fmt_picker);\n",
       "    nav_element.append(fmt_picker_span);\n",
       "    this.format_dropdown = fmt_picker[0];\n",
       "\n",
       "    for (var ind in mpl.extensions) {\n",
       "        var fmt = mpl.extensions[ind];\n",
       "        var option = $(\n",
       "            '<option/>', {selected: fmt === mpl.default_extension}).html(fmt);\n",
       "        fmt_picker.append(option)\n",
       "    }\n",
       "\n",
       "    // Add hover states to the ui-buttons\n",
       "    $( \".ui-button\" ).hover(\n",
       "        function() { $(this).addClass(\"ui-state-hover\");},\n",
       "        function() { $(this).removeClass(\"ui-state-hover\");}\n",
       "    );\n",
       "\n",
       "    var status_bar = $('<span class=\"mpl-message\"/>');\n",
       "    nav_element.append(status_bar);\n",
       "    this.message = status_bar[0];\n",
       "}\n",
       "\n",
       "mpl.figure.prototype.request_resize = function(x_pixels, y_pixels) {\n",
       "    // Request matplotlib to resize the figure. Matplotlib will then trigger a resize in the client,\n",
       "    // which will in turn request a refresh of the image.\n",
       "    this.send_message('resize', {'width': x_pixels, 'height': y_pixels});\n",
       "}\n",
       "\n",
       "mpl.figure.prototype.send_message = function(type, properties) {\n",
       "    properties['type'] = type;\n",
       "    properties['figure_id'] = this.id;\n",
       "    this.ws.send(JSON.stringify(properties));\n",
       "}\n",
       "\n",
       "mpl.figure.prototype.send_draw_message = function() {\n",
       "    if (!this.waiting) {\n",
       "        this.waiting = true;\n",
       "        this.ws.send(JSON.stringify({type: \"draw\", figure_id: this.id}));\n",
       "    }\n",
       "}\n",
       "\n",
       "\n",
       "mpl.figure.prototype.handle_save = function(fig, msg) {\n",
       "    var format_dropdown = fig.format_dropdown;\n",
       "    var format = format_dropdown.options[format_dropdown.selectedIndex].value;\n",
       "    fig.ondownload(fig, format);\n",
       "}\n",
       "\n",
       "\n",
       "mpl.figure.prototype.handle_resize = function(fig, msg) {\n",
       "    var size = msg['size'];\n",
       "    if (size[0] != fig.canvas.width || size[1] != fig.canvas.height) {\n",
       "        fig._resize_canvas(size[0], size[1]);\n",
       "        fig.send_message(\"refresh\", {});\n",
       "    };\n",
       "}\n",
       "\n",
       "mpl.figure.prototype.handle_rubberband = function(fig, msg) {\n",
       "    var x0 = msg['x0'];\n",
       "    var y0 = fig.canvas.height - msg['y0'];\n",
       "    var x1 = msg['x1'];\n",
       "    var y1 = fig.canvas.height - msg['y1'];\n",
       "    x0 = Math.floor(x0) + 0.5;\n",
       "    y0 = Math.floor(y0) + 0.5;\n",
       "    x1 = Math.floor(x1) + 0.5;\n",
       "    y1 = Math.floor(y1) + 0.5;\n",
       "    var min_x = Math.min(x0, x1);\n",
       "    var min_y = Math.min(y0, y1);\n",
       "    var width = Math.abs(x1 - x0);\n",
       "    var height = Math.abs(y1 - y0);\n",
       "\n",
       "    fig.rubberband_context.clearRect(\n",
       "        0, 0, fig.canvas.width, fig.canvas.height);\n",
       "\n",
       "    fig.rubberband_context.strokeRect(min_x, min_y, width, height);\n",
       "}\n",
       "\n",
       "mpl.figure.prototype.handle_figure_label = function(fig, msg) {\n",
       "    // Updates the figure title.\n",
       "    fig.header.textContent = msg['label'];\n",
       "}\n",
       "\n",
       "mpl.figure.prototype.handle_cursor = function(fig, msg) {\n",
       "    var cursor = msg['cursor'];\n",
       "    switch(cursor)\n",
       "    {\n",
       "    case 0:\n",
       "        cursor = 'pointer';\n",
       "        break;\n",
       "    case 1:\n",
       "        cursor = 'default';\n",
       "        break;\n",
       "    case 2:\n",
       "        cursor = 'crosshair';\n",
       "        break;\n",
       "    case 3:\n",
       "        cursor = 'move';\n",
       "        break;\n",
       "    }\n",
       "    fig.rubberband_canvas.style.cursor = cursor;\n",
       "}\n",
       "\n",
       "mpl.figure.prototype.handle_message = function(fig, msg) {\n",
       "    fig.message.textContent = msg['message'];\n",
       "}\n",
       "\n",
       "mpl.figure.prototype.handle_draw = function(fig, msg) {\n",
       "    // Request the server to send over a new figure.\n",
       "    fig.send_draw_message();\n",
       "}\n",
       "\n",
       "mpl.figure.prototype.handle_image_mode = function(fig, msg) {\n",
       "    fig.image_mode = msg['mode'];\n",
       "}\n",
       "\n",
       "mpl.figure.prototype.updated_canvas_event = function() {\n",
       "    // Called whenever the canvas gets updated.\n",
       "    this.send_message(\"ack\", {});\n",
       "}\n",
       "\n",
       "// A function to construct a web socket function for onmessage handling.\n",
       "// Called in the figure constructor.\n",
       "mpl.figure.prototype._make_on_message_function = function(fig) {\n",
       "    return function socket_on_message(evt) {\n",
       "        if (evt.data instanceof Blob) {\n",
       "            /* FIXME: We get \"Resource interpreted as Image but\n",
       "             * transferred with MIME type text/plain:\" errors on\n",
       "             * Chrome.  But how to set the MIME type?  It doesn't seem\n",
       "             * to be part of the websocket stream */\n",
       "            evt.data.type = \"image/png\";\n",
       "\n",
       "            /* Free the memory for the previous frames */\n",
       "            if (fig.imageObj.src) {\n",
       "                (window.URL || window.webkitURL).revokeObjectURL(\n",
       "                    fig.imageObj.src);\n",
       "            }\n",
       "\n",
       "            fig.imageObj.src = (window.URL || window.webkitURL).createObjectURL(\n",
       "                evt.data);\n",
       "            fig.updated_canvas_event();\n",
       "            fig.waiting = false;\n",
       "            return;\n",
       "        }\n",
       "        else if (typeof evt.data === 'string' && evt.data.slice(0, 21) == \"data:image/png;base64\") {\n",
       "            fig.imageObj.src = evt.data;\n",
       "            fig.updated_canvas_event();\n",
       "            fig.waiting = false;\n",
       "            return;\n",
       "        }\n",
       "\n",
       "        var msg = JSON.parse(evt.data);\n",
       "        var msg_type = msg['type'];\n",
       "\n",
       "        // Call the  \"handle_{type}\" callback, which takes\n",
       "        // the figure and JSON message as its only arguments.\n",
       "        try {\n",
       "            var callback = fig[\"handle_\" + msg_type];\n",
       "        } catch (e) {\n",
       "            console.log(\"No handler for the '\" + msg_type + \"' message type: \", msg);\n",
       "            return;\n",
       "        }\n",
       "\n",
       "        if (callback) {\n",
       "            try {\n",
       "                // console.log(\"Handling '\" + msg_type + \"' message: \", msg);\n",
       "                callback(fig, msg);\n",
       "            } catch (e) {\n",
       "                console.log(\"Exception inside the 'handler_\" + msg_type + \"' callback:\", e, e.stack, msg);\n",
       "            }\n",
       "        }\n",
       "    };\n",
       "}\n",
       "\n",
       "// from http://stackoverflow.com/questions/1114465/getting-mouse-location-in-canvas\n",
       "mpl.findpos = function(e) {\n",
       "    //this section is from http://www.quirksmode.org/js/events_properties.html\n",
       "    var targ;\n",
       "    if (!e)\n",
       "        e = window.event;\n",
       "    if (e.target)\n",
       "        targ = e.target;\n",
       "    else if (e.srcElement)\n",
       "        targ = e.srcElement;\n",
       "    if (targ.nodeType == 3) // defeat Safari bug\n",
       "        targ = targ.parentNode;\n",
       "\n",
       "    // jQuery normalizes the pageX and pageY\n",
       "    // pageX,Y are the mouse positions relative to the document\n",
       "    // offset() returns the position of the element relative to the document\n",
       "    var x = e.pageX - $(targ).offset().left;\n",
       "    var y = e.pageY - $(targ).offset().top;\n",
       "\n",
       "    return {\"x\": x, \"y\": y};\n",
       "};\n",
       "\n",
       "/*\n",
       " * return a copy of an object with only non-object keys\n",
       " * we need this to avoid circular references\n",
       " * http://stackoverflow.com/a/24161582/3208463\n",
       " */\n",
       "function simpleKeys (original) {\n",
       "  return Object.keys(original).reduce(function (obj, key) {\n",
       "    if (typeof original[key] !== 'object')\n",
       "        obj[key] = original[key]\n",
       "    return obj;\n",
       "  }, {});\n",
       "}\n",
       "\n",
       "mpl.figure.prototype.mouse_event = function(event, name) {\n",
       "    var canvas_pos = mpl.findpos(event)\n",
       "\n",
       "    if (name === 'button_press')\n",
       "    {\n",
       "        this.canvas.focus();\n",
       "        this.canvas_div.focus();\n",
       "    }\n",
       "\n",
       "    var x = canvas_pos.x;\n",
       "    var y = canvas_pos.y;\n",
       "\n",
       "    this.send_message(name, {x: x, y: y, button: event.button,\n",
       "                             step: event.step,\n",
       "                             guiEvent: simpleKeys(event)});\n",
       "\n",
       "    /* This prevents the web browser from automatically changing to\n",
       "     * the text insertion cursor when the button is pressed.  We want\n",
       "     * to control all of the cursor setting manually through the\n",
       "     * 'cursor' event from matplotlib */\n",
       "    event.preventDefault();\n",
       "    return false;\n",
       "}\n",
       "\n",
       "mpl.figure.prototype._key_event_extra = function(event, name) {\n",
       "    // Handle any extra behaviour associated with a key event\n",
       "}\n",
       "\n",
       "mpl.figure.prototype.key_event = function(event, name) {\n",
       "\n",
       "    // Prevent repeat events\n",
       "    if (name == 'key_press')\n",
       "    {\n",
       "        if (event.which === this._key)\n",
       "            return;\n",
       "        else\n",
       "            this._key = event.which;\n",
       "    }\n",
       "    if (name == 'key_release')\n",
       "        this._key = null;\n",
       "\n",
       "    var value = '';\n",
       "    if (event.ctrlKey && event.which != 17)\n",
       "        value += \"ctrl+\";\n",
       "    if (event.altKey && event.which != 18)\n",
       "        value += \"alt+\";\n",
       "    if (event.shiftKey && event.which != 16)\n",
       "        value += \"shift+\";\n",
       "\n",
       "    value += 'k';\n",
       "    value += event.which.toString();\n",
       "\n",
       "    this._key_event_extra(event, name);\n",
       "\n",
       "    this.send_message(name, {key: value,\n",
       "                             guiEvent: simpleKeys(event)});\n",
       "    return false;\n",
       "}\n",
       "\n",
       "mpl.figure.prototype.toolbar_button_onclick = function(name) {\n",
       "    if (name == 'download') {\n",
       "        this.handle_save(this, null);\n",
       "    } else {\n",
       "        this.send_message(\"toolbar_button\", {name: name});\n",
       "    }\n",
       "};\n",
       "\n",
       "mpl.figure.prototype.toolbar_button_onmouseover = function(tooltip) {\n",
       "    this.message.textContent = tooltip;\n",
       "};\n",
       "mpl.toolbar_items = [[\"Home\", \"Reset original view\", \"fa fa-home icon-home\", \"home\"], [\"Back\", \"Back to  previous view\", \"fa fa-arrow-left icon-arrow-left\", \"back\"], [\"Forward\", \"Forward to next view\", \"fa fa-arrow-right icon-arrow-right\", \"forward\"], [\"\", \"\", \"\", \"\"], [\"Pan\", \"Pan axes with left mouse, zoom with right\", \"fa fa-arrows icon-move\", \"pan\"], [\"Zoom\", \"Zoom to rectangle\", \"fa fa-square-o icon-check-empty\", \"zoom\"], [\"\", \"\", \"\", \"\"], [\"Download\", \"Download plot\", \"fa fa-floppy-o icon-save\", \"download\"]];\n",
       "\n",
       "mpl.extensions = [\"eps\", \"jpeg\", \"pdf\", \"png\", \"ps\", \"raw\", \"svg\", \"tif\"];\n",
       "\n",
       "mpl.default_extension = \"png\";var comm_websocket_adapter = function(comm) {\n",
       "    // Create a \"websocket\"-like object which calls the given IPython comm\n",
       "    // object with the appropriate methods. Currently this is a non binary\n",
       "    // socket, so there is still some room for performance tuning.\n",
       "    var ws = {};\n",
       "\n",
       "    ws.close = function() {\n",
       "        comm.close()\n",
       "    };\n",
       "    ws.send = function(m) {\n",
       "        //console.log('sending', m);\n",
       "        comm.send(m);\n",
       "    };\n",
       "    // Register the callback with on_msg.\n",
       "    comm.on_msg(function(msg) {\n",
       "        //console.log('receiving', msg['content']['data'], msg);\n",
       "        // Pass the mpl event to the overriden (by mpl) onmessage function.\n",
       "        ws.onmessage(msg['content']['data'])\n",
       "    });\n",
       "    return ws;\n",
       "}\n",
       "\n",
       "mpl.mpl_figure_comm = function(comm, msg) {\n",
       "    // This is the function which gets called when the mpl process\n",
       "    // starts-up an IPython Comm through the \"matplotlib\" channel.\n",
       "\n",
       "    var id = msg.content.data.id;\n",
       "    // Get hold of the div created by the display call when the Comm\n",
       "    // socket was opened in Python.\n",
       "    var element = $(\"#\" + id);\n",
       "    var ws_proxy = comm_websocket_adapter(comm)\n",
       "\n",
       "    function ondownload(figure, format) {\n",
       "        window.open(figure.imageObj.src);\n",
       "    }\n",
       "\n",
       "    var fig = new mpl.figure(id, ws_proxy,\n",
       "                           ondownload,\n",
       "                           element.get(0));\n",
       "\n",
       "    // Call onopen now - mpl needs it, as it is assuming we've passed it a real\n",
       "    // web socket which is closed, not our websocket->open comm proxy.\n",
       "    ws_proxy.onopen();\n",
       "\n",
       "    fig.parent_element = element.get(0);\n",
       "    fig.cell_info = mpl.find_output_cell(\"<div id='\" + id + \"'></div>\");\n",
       "    if (!fig.cell_info) {\n",
       "        console.error(\"Failed to find cell for figure\", id, fig);\n",
       "        return;\n",
       "    }\n",
       "\n",
       "    var output_index = fig.cell_info[2]\n",
       "    var cell = fig.cell_info[0];\n",
       "\n",
       "};\n",
       "\n",
       "mpl.figure.prototype.handle_close = function(fig, msg) {\n",
       "    fig.root.unbind('remove')\n",
       "\n",
       "    // Update the output cell to use the data from the current canvas.\n",
       "    fig.push_to_output();\n",
       "    var dataURL = fig.canvas.toDataURL();\n",
       "    // Re-enable the keyboard manager in IPython - without this line, in FF,\n",
       "    // the notebook keyboard shortcuts fail.\n",
       "    IPython.keyboard_manager.enable()\n",
       "    $(fig.parent_element).html('<img src=\"' + dataURL + '\">');\n",
       "    fig.close_ws(fig, msg);\n",
       "}\n",
       "\n",
       "mpl.figure.prototype.close_ws = function(fig, msg){\n",
       "    fig.send_message('closing', msg);\n",
       "    // fig.ws.close()\n",
       "}\n",
       "\n",
       "mpl.figure.prototype.push_to_output = function(remove_interactive) {\n",
       "    // Turn the data on the canvas into data in the output cell.\n",
       "    var dataURL = this.canvas.toDataURL();\n",
       "    this.cell_info[1]['text/html'] = '<img src=\"' + dataURL + '\">';\n",
       "}\n",
       "\n",
       "mpl.figure.prototype.updated_canvas_event = function() {\n",
       "    // Tell IPython that the notebook contents must change.\n",
       "    IPython.notebook.set_dirty(true);\n",
       "    this.send_message(\"ack\", {});\n",
       "    var fig = this;\n",
       "    // Wait a second, then push the new image to the DOM so\n",
       "    // that it is saved nicely (might be nice to debounce this).\n",
       "    setTimeout(function () { fig.push_to_output() }, 1000);\n",
       "}\n",
       "\n",
       "mpl.figure.prototype._init_toolbar = function() {\n",
       "    var fig = this;\n",
       "\n",
       "    var nav_element = $('<div/>')\n",
       "    nav_element.attr('style', 'width: 100%');\n",
       "    this.root.append(nav_element);\n",
       "\n",
       "    // Define a callback function for later on.\n",
       "    function toolbar_event(event) {\n",
       "        return fig.toolbar_button_onclick(event['data']);\n",
       "    }\n",
       "    function toolbar_mouse_event(event) {\n",
       "        return fig.toolbar_button_onmouseover(event['data']);\n",
       "    }\n",
       "\n",
       "    for(var toolbar_ind in mpl.toolbar_items){\n",
       "        var name = mpl.toolbar_items[toolbar_ind][0];\n",
       "        var tooltip = mpl.toolbar_items[toolbar_ind][1];\n",
       "        var image = mpl.toolbar_items[toolbar_ind][2];\n",
       "        var method_name = mpl.toolbar_items[toolbar_ind][3];\n",
       "\n",
       "        if (!name) { continue; };\n",
       "\n",
       "        var button = $('<button class=\"btn btn-default\" href=\"#\" title=\"' + name + '\"><i class=\"fa ' + image + ' fa-lg\"></i></button>');\n",
       "        button.click(method_name, toolbar_event);\n",
       "        button.mouseover(tooltip, toolbar_mouse_event);\n",
       "        nav_element.append(button);\n",
       "    }\n",
       "\n",
       "    // Add the status bar.\n",
       "    var status_bar = $('<span class=\"mpl-message\" style=\"text-align:right; float: right;\"/>');\n",
       "    nav_element.append(status_bar);\n",
       "    this.message = status_bar[0];\n",
       "\n",
       "    // Add the close button to the window.\n",
       "    var buttongrp = $('<div class=\"btn-group inline pull-right\"></div>');\n",
       "    var button = $('<button class=\"btn btn-mini btn-primary\" href=\"#\" title=\"Stop Interaction\"><i class=\"fa fa-power-off icon-remove icon-large\"></i></button>');\n",
       "    button.click(function (evt) { fig.handle_close(fig, {}); } );\n",
       "    button.mouseover('Stop Interaction', toolbar_mouse_event);\n",
       "    buttongrp.append(button);\n",
       "    var titlebar = this.root.find($('.ui-dialog-titlebar'));\n",
       "    titlebar.prepend(buttongrp);\n",
       "}\n",
       "\n",
       "mpl.figure.prototype._root_extra_style = function(el){\n",
       "    var fig = this\n",
       "    el.on(\"remove\", function(){\n",
       "\tfig.close_ws(fig, {});\n",
       "    });\n",
       "}\n",
       "\n",
       "mpl.figure.prototype._canvas_extra_style = function(el){\n",
       "    // this is important to make the div 'focusable\n",
       "    el.attr('tabindex', 0)\n",
       "    // reach out to IPython and tell the keyboard manager to turn it's self\n",
       "    // off when our div gets focus\n",
       "\n",
       "    // location in version 3\n",
       "    if (IPython.notebook.keyboard_manager) {\n",
       "        IPython.notebook.keyboard_manager.register_events(el);\n",
       "    }\n",
       "    else {\n",
       "        // location in version 2\n",
       "        IPython.keyboard_manager.register_events(el);\n",
       "    }\n",
       "\n",
       "}\n",
       "\n",
       "mpl.figure.prototype._key_event_extra = function(event, name) {\n",
       "    var manager = IPython.notebook.keyboard_manager;\n",
       "    if (!manager)\n",
       "        manager = IPython.keyboard_manager;\n",
       "\n",
       "    // Check for shift+enter\n",
       "    if (event.shiftKey && event.which == 13) {\n",
       "        this.canvas_div.blur();\n",
       "        event.shiftKey = false;\n",
       "        // Send a \"J\" for go to next cell\n",
       "        event.which = 74;\n",
       "        event.keyCode = 74;\n",
       "        manager.command_mode();\n",
       "        manager.handle_keydown(event);\n",
       "    }\n",
       "}\n",
       "\n",
       "mpl.figure.prototype.handle_save = function(fig, msg) {\n",
       "    fig.ondownload(fig, null);\n",
       "}\n",
       "\n",
       "\n",
       "mpl.find_output_cell = function(html_output) {\n",
       "    // Return the cell and output element which can be found *uniquely* in the notebook.\n",
       "    // Note - this is a bit hacky, but it is done because the \"notebook_saving.Notebook\"\n",
       "    // IPython event is triggered only after the cells have been serialised, which for\n",
       "    // our purposes (turning an active figure into a static one), is too late.\n",
       "    var cells = IPython.notebook.get_cells();\n",
       "    var ncells = cells.length;\n",
       "    for (var i=0; i<ncells; i++) {\n",
       "        var cell = cells[i];\n",
       "        if (cell.cell_type === 'code'){\n",
       "            for (var j=0; j<cell.output_area.outputs.length; j++) {\n",
       "                var data = cell.output_area.outputs[j];\n",
       "                if (data.data) {\n",
       "                    // IPython >= 3 moved mimebundle to data attribute of output\n",
       "                    data = data.data;\n",
       "                }\n",
       "                if (data['text/html'] == html_output) {\n",
       "                    return [cell, data, j];\n",
       "                }\n",
       "            }\n",
       "        }\n",
       "    }\n",
       "}\n",
       "\n",
       "// Register the function which deals with the matplotlib target/channel.\n",
       "// The kernel may be null if the page has been refreshed.\n",
       "if (IPython.notebook.kernel != null) {\n",
       "    IPython.notebook.kernel.comm_manager.register_target('matplotlib', mpl.mpl_figure_comm);\n",
       "}\n"
      ],
      "text/plain": [
       "<IPython.core.display.Javascript object>"
      ]
     },
     "metadata": {},
     "output_type": "display_data"
    },
    {
     "data": {
      "text/html": [
       "<img src=\"data:image/png;base64,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\">"
      ],
      "text/plain": [
       "<IPython.core.display.HTML object>"
      ]
     },
     "metadata": {},
     "output_type": "display_data"
    },
    {
     "name": "stdout",
     "output_type": "stream",
     "text": [
      "\n"
     ]
    }
   ],
   "source": [
    "sl.hide_code_in_slideshow()\n",
    "#%matplotlib inline\n",
    "%matplotlib nbagg\n",
    "\n",
    "ax = ut.plotSetup3d(-5,5,-7,7,-10,10,figsize=(12,8))\n",
    "v = [4.0,4.0,2.0]\n",
    "u = [-4.0,3.0,1.0]\n",
    "A = np.array([v, u]).T\n",
    "x = np.array([[-0.1, -0.75]]).T\n",
    "Ax = A.dot(x)\n",
    "ax.text(v[0],v[1],v[2],r'$\\bf a_1$',size=20)\n",
    "ax.text(u[0],u[1],u[2],r'$\\bf a_2$',size=20)\n",
    "#ax.text(Ax[0],Ax[1],Ax[2],r'$A\\bf x$',size=20)  # Causes error?\n",
    "ax.text(2.5, -1, -1,r'$A\\bf x$',size=20)\n",
    "ax.text(1,-4,-10,r'Span{$\\bf a_1,a_2$}',size=16)\n",
    "ax.text(0.2,0.2,-4,r'$\\bf 0$',size=20)\n",
    "# plotting the span of v\n",
    "ut.plotSpan3d(ax,u,v,'Green')\n",
    "ut.plotPoint3d(ax,u[0],u[1],u[2],'r')\n",
    "ut.plotPoint3d(ax,v[0],v[1],v[2],'r')\n",
    "ut.plotPoint3d(ax,0,0,0,'b')\n",
    "ut.plotPoint3d(ax,Ax[0],Ax[1],Ax[2],'b')\n",
    "# plotting the axes\n",
    "ut.plotIntersection3d(ax,[0,0,1,0],[0,1,0,0])\n",
    "ut.plotIntersection3d(ax,[0,0,1,0],[1,0,0,0])\n",
    "ut.plotIntersection3d(ax,[0,1,0,0],[1,0,0,0])\n",
    "ax.set_title(r'$A{\\bf x}$ where $A = \\left[\\bf a_1\\;a_2\\right]$',size=20)\n",
    "print('')"
   ]
  },
  {
   "cell_type": "markdown",
   "metadata": {
    "internals": {
     "frag_helper": "fragment_end",
     "frag_number": 19,
     "slide_helper": "subslide_end",
     "slide_type": "subslide"
    },
    "slide_helper": "slide_end",
    "slideshow": {
     "slide_type": "slide"
    }
   },
   "source": [
    "## Question Time! Q5.1"
   ]
  },
  {
   "cell_type": "markdown",
   "metadata": {
    "internals": {
     "frag_helper": "fragment_end",
     "frag_number": 19,
     "slide_type": "subslide"
    },
    "slideshow": {
     "slide_type": "slide"
    }
   },
   "source": [
    "## The Matrix Equation"
   ]
  },
  {
   "cell_type": "markdown",
   "metadata": {
    "internals": {
     "frag_helper": "fragment_end",
     "frag_number": 19
    },
    "slideshow": {
     "slide_type": "-"
    }
   },
   "source": [
    "Now let's write an equation.   Let's start with a linear system:\n",
    "\n",
    "$$\\begin{array}{rcl}x_1+2x_2-x_3&=&4\\\\-5x_2+3x_3&=&1\\end{array}$$"
   ]
  },
  {
   "cell_type": "markdown",
   "metadata": {
    "internals": {
     "frag_helper": "fragment_end",
     "frag_number": 25
    },
    "slideshow": {
     "slide_type": "fragment"
    }
   },
   "source": [
    "We saw last lecture that this linear system is equivalent to a vector equation, namely\n",
    "\n",
    "$$x_1\\left[\\begin{array}{r}1\\\\0\\end{array}\\right] + x_2\\left[\\begin{array}{r}2\\\\-5\\end{array}\\right] + x_3\\left[\\begin{array}{r}-1\\\\3\\end{array}\\right] = \\left[\\begin{array}{r}4\\\\1\\end{array}\\right]$$"
   ]
  },
  {
   "cell_type": "markdown",
   "metadata": {
    "internals": {
     "frag_helper": "fragment_end",
     "frag_number": 26
    },
    "slideshow": {
     "slide_type": "fragment"
    }
   },
   "source": [
    "Now, today we have learned that this vector equation is also equivalent to this __matrix equation__:\n",
    "\n",
    "$$\\left[\\begin{array}{rrr}1&2&-1\\\\0&-5&3\\end{array}\\right]\\;\\left[\\begin{array}{r}x_1\\\\x_2\\\\x_3\\end{array}\\right] = \\left[\\begin{array}{r}4\\\\1\\end{array}\\right].$$"
   ]
  },
  {
   "cell_type": "markdown",
   "metadata": {
    "internals": {
     "frag_helper": "fragment_end",
     "frag_number": 27
    },
    "slideshow": {
     "slide_type": "fragment"
    }
   },
   "source": [
    "which has the form $A{\\bf x} = {\\bf b}$.  "
   ]
  },
  {
   "cell_type": "markdown",
   "metadata": {
    "internals": {
     "frag_helper": "fragment_end",
     "frag_number": 28,
     "slide_helper": "subslide_end"
    },
    "slide_helper": "slide_end",
    "slideshow": {
     "slide_type": "fragment"
    }
   },
   "source": [
    "Notice how simple it is to go from the linear system to the matrix equation: we put the coefficients of the linear system into $A$, and the right hand side values into ${\\bf b},$ and we can then write the matrix equation $A{\\bf x} = {\\bf b}$ immediately."
   ]
  },
  {
   "cell_type": "markdown",
   "metadata": {
    "internals": {
     "frag_helper": "fragment_end",
     "frag_number": 28,
     "slide_type": "subslide"
    },
    "slideshow": {
     "slide_type": "slide"
    }
   },
   "source": [
    "OK, let's write this out formally.\n",
    "\n",
    "__Theorem.__  If $A$ is an $m\\times n$ matrix, with columns $\\bf a_1, a_2, \\dots, a_n,$ and if $\\bf b$ is in $\\mathbb{R}^m$, the matrix equation\n",
    "\n",
    "$$ A{\\bf x} = {\\bf b}$$\n",
    "\n",
    "has the same solution set as the vector equation\n",
    "\n",
    "$$ x_1{\\bf a_1} + x_2{\\bf a_2} + ... + x_n{\\bf a_n} = {\\bf b}$$\n",
    "\n",
    "which, in turn, has the same solution set as the system of linear equations whose augmented matrix is\n",
    "\n",
    "$$[{\\bf a_1} \\; {\\bf a_2} \\; ... \\;{\\bf a_n}\\;{\\bf b}].$$"
   ]
  },
  {
   "cell_type": "markdown",
   "metadata": {
    "internals": {
     "frag_helper": "fragment_end",
     "frag_number": 30
    },
    "slideshow": {
     "slide_type": "fragment"
    }
   },
   "source": [
    "This is an absolutely key result, because it gives us power to solve problems from three different viewpoints.  If we are looking for a solution set $x_1, x_2, \\dots, x_n,$ there are three different questions we can ask:\n",
    "\n",
    "1. What is the solution set of the linear system $[{\\bf a_1} \\; {\\bf a_2} \\; ... \\;{\\bf a_n}\\;{\\bf b}]$?\n",
    "2. What is the solution set of the vector equation $x_1{\\bf a_1} + x_2{\\bf a_2} + ... + x_n{\\bf a_n} = {\\bf b}?$\n",
    "3. What is the solution set of the matrix equation $A{\\bf x} = {\\bf b}?$\n",
    "\n",
    "We now know that all these questions have the same answer.  And all of them can be solved by row reducing the augmented matrix $[{\\bf a_1} \\; {\\bf a_2} \\; ... \\;{\\bf a_n}\\;{\\bf b}].$"
   ]
  },
  {
   "cell_type": "markdown",
   "metadata": {
    "internals": {
     "frag_helper": "fragment_end",
     "frag_number": 31,
     "slide_helper": "subslide_end"
    },
    "slide_helper": "slide_end",
    "slideshow": {
     "slide_type": "fragment"
    }
   },
   "source": [
    "In particular, one of the most common questions you will encounter is, given a matrix $A$ and a vector ${\\bf b}$, is there an ${\\bf x}$ that makes $A{\\bf x} = {\\bf b}$ true?\n",
    "\n",
    "You will encounter this form of question quite often in fields like computer graphics, data mining, algorithms, or quantum computing."
   ]
  },
  {
   "cell_type": "markdown",
   "metadata": {
    "internals": {
     "frag_helper": "fragment_end",
     "frag_number": 31,
     "slide_helper": "subslide_end",
     "slide_type": "subslide"
    },
    "slide_helper": "slide_end",
    "slideshow": {
     "slide_type": "slide"
    }
   },
   "source": [
    "## Question Time! Q5.2"
   ]
  },
  {
   "cell_type": "markdown",
   "metadata": {
    "internals": {
     "frag_helper": "fragment_end",
     "frag_number": 31,
     "slide_type": "subslide"
    },
    "slideshow": {
     "slide_type": "slide"
    }
   },
   "source": [
    "## Existence of Solutions"
   ]
  },
  {
   "cell_type": "markdown",
   "metadata": {
    "internals": {
     "frag_helper": "fragment_end",
     "frag_number": 31
    },
    "slideshow": {
     "slide_type": "-"
    }
   },
   "source": [
    "We can see that $A{\\bf x} = {\\bf b}$ has a solution if and only if $\\bf b$ is a linear combination of the columns of $A$ -- that is, if $\\bf b$ lies in Span$\\{{\\bf a_1},{\\bf a_2}, \\dots ,{\\bf a_n}\\}.$   We can adopt the term \"consistent\" here too -- i.e., is $A{\\bf x} = {\\bf b}$ consistent?"
   ]
  },
  {
   "cell_type": "markdown",
   "metadata": {
    "internals": {
     "frag_helper": "fragment_end",
     "frag_number": 35
    },
    "slideshow": {
     "slide_type": "fragment"
    }
   },
   "source": [
    "Now we will ask a more general question, which is specifically about the matrix $A$.  That is:\n",
    "\n",
    "Does $A{\\bf x} = {\\bf b}$ have a solution for _any_ ${\\bf b}$?"
   ]
  },
  {
   "cell_type": "markdown",
   "metadata": {
    "internals": {
     "frag_helper": "fragment_end",
     "frag_number": 36
    },
    "slideshow": {
     "slide_type": "fragment"
    }
   },
   "source": [
    "__Example.__ \n",
    "\n",
    "Let $A = \\left[\\begin{array}{rrr}1&3&4\\\\-4&2&-6\\\\-3&-2&-7\\end{array}\\right]$ and ${\\bf b} = \\left[\\begin{array}{r}b_1\\\\b_2\\\\b_3\\end{array}\\right].$  Is the equation $A{\\bf x} = {\\bf b}$ consistent for all possible $b_1, b_2, b_3?$"
   ]
  },
  {
   "cell_type": "markdown",
   "metadata": {
    "internals": {
     "frag_helper": "fragment_end",
     "frag_number": 37
    },
    "slideshow": {
     "slide_type": "fragment"
    }
   },
   "source": [
    "We know how to test for consistency: form the augmented matrix and row reduce it.\n",
    "\n",
    "$$\\left[\\begin{array}{rrrc}1&3&4&b_1\\\\-4&2&-6&b_2\\\\-3&-2&-7&b_3\\end{array}\\right] \\sim \\left[\\begin{array}{rrrc}1&3&4&b_1\\\\0&14&10&b_2+4b_1\\\\0&7&5&b_3+3b_1\\end{array}\\right] \\sim \\left[\\begin{array}{rrrc}1&3&4&b_1\\\\0&14&10&b_2+4b_1\\\\0&0&0&b_3+3b_1-\\frac{1}{2}(b_2 + 4b_1)\\end{array}\\right].$$"
   ]
  },
  {
   "cell_type": "markdown",
   "metadata": {
    "internals": {
     "frag_helper": "fragment_end",
     "frag_number": 38
    },
    "slideshow": {
     "slide_type": "fragment"
    }
   },
   "source": [
    "The third entry in the column 4, simplified, is $b_1 -\\frac{1}{2}b_2+ b_3.$ This expression can be nonzero. \n",
    "\n",
    "For example, take $b_1 = 1, b_2 = 1, b_3 = 1;$ then the lower right entry is 1.5.  This gives a row of the form $0 = k$ which indicates an inconsistent system.  \n",
    "\n",
    "So the answer is \"no, $A{\\bf x} = {\\bf b}$ is __not__ consistent for all possible $b_1, b_2, b_3.$\""
   ]
  },
  {
   "cell_type": "markdown",
   "metadata": {
    "internals": {
     "frag_helper": "fragment_end",
     "frag_number": 39,
     "slide_helper": "subslide_end"
    },
    "slide_helper": "slide_end",
    "slideshow": {
     "slide_type": "fragment"
    }
   },
   "source": [
    "\n",
    "\n",
    "Here is the echelon form of $A$ (note we are talking only about $A$ here, not the augmented matrix):\n",
    "\n",
    "$$\\left[\\begin{array}{rrr}1&3&4\\\\0&14&10\\\\0&0&0\\end{array}\\right].$$\n",
    "\n",
    "The equation $A{\\bf x} = {\\bf b}$ fails to be consistent for all $\\bf b$ because the echelon form of $A$ has a row of zeros.  \n",
    "\n",
    "If $A$ had a pivot in all three rows, we would not care about the calculations in the augmented column because no matter what is in the augmented column, an echelon form of the augmented matrix could not have a row indicating $0 = k$."
   ]
  },
  {
   "cell_type": "markdown",
   "metadata": {
    "internals": {
     "frag_helper": "fragment_end",
     "frag_number": 39,
     "slide_type": "subslide"
    },
    "slideshow": {
     "slide_type": "slide"
    }
   },
   "source": [
    "_Question:_ OK, so $A{\\bf x} = {\\bf b}$ is not always consistent.  When __is__ $A{\\bf x} = {\\bf b}$ consistent?"
   ]
  },
  {
   "cell_type": "markdown",
   "metadata": {
    "internals": {
     "frag_helper": "fragment_end",
     "frag_number": 41
    },
    "slideshow": {
     "slide_type": "fragment"
    }
   },
   "source": [
    "_Answer:_ When $b_1 -\\frac{1}{2}b_2+ b_3 = 0.$  This makes the last row of the augmented matrix all zeros.\n",
    "\n",
    "This is a single equation in three unknowns, so it defines a plane through the origin in $\\mathbb{R}^3.$"
   ]
  },
  {
   "cell_type": "code",
   "execution_count": 7,
   "metadata": {
    "collapsed": false,
    "internals": {
     "frag_helper": "fragment_end",
     "frag_number": 42
    },
    "slideshow": {
     "slide_type": "fragment"
    }
   },
   "outputs": [
    {
     "data": {
      "text/html": [
       "<div id=\"407d949a1e60b84f\"></div>\n",
       "    <script type=\"text/javascript\">\n",
       "        $(function(){\n",
       "            var p = $(\"#407d949a1e60b84f\");\n",
       "            if (p.length==0) return;\n",
       "\n",
       "            while (!p.hasClass(\"cell\")) {\n",
       "                p=p.parent();\n",
       "\n",
       "                if (p.prop(\"tagName\") ==\"body\") return;\n",
       "            }\n",
       "            var cell = p;\n",
       "            cell.find(\".input\").addClass(\"hide-in-slideshow\")\n",
       "        });\n",
       "    </script>"
      ]
     },
     "metadata": {},
     "output_type": "display_data"
    },
    {
     "data": {
      "application/javascript": [
       "/* Put everything inside the global mpl namespace */\n",
       "window.mpl = {};\n",
       "\n",
       "mpl.get_websocket_type = function() {\n",
       "    if (typeof(WebSocket) !== 'undefined') {\n",
       "        return WebSocket;\n",
       "    } else if (typeof(MozWebSocket) !== 'undefined') {\n",
       "        return MozWebSocket;\n",
       "    } else {\n",
       "        alert('Your browser does not have WebSocket support.' +\n",
       "              'Please try Chrome, Safari or Firefox ≥ 6. ' +\n",
       "              'Firefox 4 and 5 are also supported but you ' +\n",
       "              'have to enable WebSockets in about:config.');\n",
       "    };\n",
       "}\n",
       "\n",
       "mpl.figure = function(figure_id, websocket, ondownload, parent_element) {\n",
       "    this.id = figure_id;\n",
       "\n",
       "    this.ws = websocket;\n",
       "\n",
       "    this.supports_binary = (this.ws.binaryType != undefined);\n",
       "\n",
       "    if (!this.supports_binary) {\n",
       "        var warnings = document.getElementById(\"mpl-warnings\");\n",
       "        if (warnings) {\n",
       "            warnings.style.display = 'block';\n",
       "            warnings.textContent = (\n",
       "                \"This browser does not support binary websocket messages. \" +\n",
       "                    \"Performance may be slow.\");\n",
       "        }\n",
       "    }\n",
       "\n",
       "    this.imageObj = new Image();\n",
       "\n",
       "    this.context = undefined;\n",
       "    this.message = undefined;\n",
       "    this.canvas = undefined;\n",
       "    this.rubberband_canvas = undefined;\n",
       "    this.rubberband_context = undefined;\n",
       "    this.format_dropdown = undefined;\n",
       "\n",
       "    this.image_mode = 'full';\n",
       "\n",
       "    this.root = $('<div/>');\n",
       "    this._root_extra_style(this.root)\n",
       "    this.root.attr('style', 'display: inline-block');\n",
       "\n",
       "    $(parent_element).append(this.root);\n",
       "\n",
       "    this._init_header(this);\n",
       "    this._init_canvas(this);\n",
       "    this._init_toolbar(this);\n",
       "\n",
       "    var fig = this;\n",
       "\n",
       "    this.waiting = false;\n",
       "\n",
       "    this.ws.onopen =  function () {\n",
       "            fig.send_message(\"supports_binary\", {value: fig.supports_binary});\n",
       "            fig.send_message(\"send_image_mode\", {});\n",
       "            fig.send_message(\"refresh\", {});\n",
       "        }\n",
       "\n",
       "    this.imageObj.onload = function() {\n",
       "            if (fig.image_mode == 'full') {\n",
       "                // Full images could contain transparency (where diff images\n",
       "                // almost always do), so we need to clear the canvas so that\n",
       "                // there is no ghosting.\n",
       "                fig.context.clearRect(0, 0, fig.canvas.width, fig.canvas.height);\n",
       "            }\n",
       "            fig.context.drawImage(fig.imageObj, 0, 0);\n",
       "        };\n",
       "\n",
       "    this.imageObj.onunload = function() {\n",
       "        this.ws.close();\n",
       "    }\n",
       "\n",
       "    this.ws.onmessage = this._make_on_message_function(this);\n",
       "\n",
       "    this.ondownload = ondownload;\n",
       "}\n",
       "\n",
       "mpl.figure.prototype._init_header = function() {\n",
       "    var titlebar = $(\n",
       "        '<div class=\"ui-dialog-titlebar ui-widget-header ui-corner-all ' +\n",
       "        'ui-helper-clearfix\"/>');\n",
       "    var titletext = $(\n",
       "        '<div class=\"ui-dialog-title\" style=\"width: 100%; ' +\n",
       "        'text-align: center; padding: 3px;\"/>');\n",
       "    titlebar.append(titletext)\n",
       "    this.root.append(titlebar);\n",
       "    this.header = titletext[0];\n",
       "}\n",
       "\n",
       "\n",
       "\n",
       "mpl.figure.prototype._canvas_extra_style = function(canvas_div) {\n",
       "\n",
       "}\n",
       "\n",
       "\n",
       "mpl.figure.prototype._root_extra_style = function(canvas_div) {\n",
       "\n",
       "}\n",
       "\n",
       "mpl.figure.prototype._init_canvas = function() {\n",
       "    var fig = this;\n",
       "\n",
       "    var canvas_div = $('<div/>');\n",
       "\n",
       "    canvas_div.attr('style', 'position: relative; clear: both; outline: 0');\n",
       "\n",
       "    function canvas_keyboard_event(event) {\n",
       "        return fig.key_event(event, event['data']);\n",
       "    }\n",
       "\n",
       "    canvas_div.keydown('key_press', canvas_keyboard_event);\n",
       "    canvas_div.keyup('key_release', canvas_keyboard_event);\n",
       "    this.canvas_div = canvas_div\n",
       "    this._canvas_extra_style(canvas_div)\n",
       "    this.root.append(canvas_div);\n",
       "\n",
       "    var canvas = $('<canvas/>');\n",
       "    canvas.addClass('mpl-canvas');\n",
       "    canvas.attr('style', \"left: 0; top: 0; z-index: 0; outline: 0\")\n",
       "\n",
       "    this.canvas = canvas[0];\n",
       "    this.context = canvas[0].getContext(\"2d\");\n",
       "\n",
       "    var rubberband = $('<canvas/>');\n",
       "    rubberband.attr('style', \"position: absolute; left: 0; top: 0; z-index: 1;\")\n",
       "\n",
       "    var pass_mouse_events = true;\n",
       "\n",
       "    canvas_div.resizable({\n",
       "        start: function(event, ui) {\n",
       "            pass_mouse_events = false;\n",
       "        },\n",
       "        resize: function(event, ui) {\n",
       "            fig.request_resize(ui.size.width, ui.size.height);\n",
       "        },\n",
       "        stop: function(event, ui) {\n",
       "            pass_mouse_events = true;\n",
       "            fig.request_resize(ui.size.width, ui.size.height);\n",
       "        },\n",
       "    });\n",
       "\n",
       "    function mouse_event_fn(event) {\n",
       "        if (pass_mouse_events)\n",
       "            return fig.mouse_event(event, event['data']);\n",
       "    }\n",
       "\n",
       "    rubberband.mousedown('button_press', mouse_event_fn);\n",
       "    rubberband.mouseup('button_release', mouse_event_fn);\n",
       "    // Throttle sequential mouse events to 1 every 20ms.\n",
       "    rubberband.mousemove('motion_notify', mouse_event_fn);\n",
       "\n",
       "    rubberband.mouseenter('figure_enter', mouse_event_fn);\n",
       "    rubberband.mouseleave('figure_leave', mouse_event_fn);\n",
       "\n",
       "    canvas_div.on(\"wheel\", function (event) {\n",
       "        event = event.originalEvent;\n",
       "        event['data'] = 'scroll'\n",
       "        if (event.deltaY < 0) {\n",
       "            event.step = 1;\n",
       "        } else {\n",
       "            event.step = -1;\n",
       "        }\n",
       "        mouse_event_fn(event);\n",
       "    });\n",
       "\n",
       "    canvas_div.append(canvas);\n",
       "    canvas_div.append(rubberband);\n",
       "\n",
       "    this.rubberband = rubberband;\n",
       "    this.rubberband_canvas = rubberband[0];\n",
       "    this.rubberband_context = rubberband[0].getContext(\"2d\");\n",
       "    this.rubberband_context.strokeStyle = \"#000000\";\n",
       "\n",
       "    this._resize_canvas = function(width, height) {\n",
       "        // Keep the size of the canvas, canvas container, and rubber band\n",
       "        // canvas in synch.\n",
       "        canvas_div.css('width', width)\n",
       "        canvas_div.css('height', height)\n",
       "\n",
       "        canvas.attr('width', width);\n",
       "        canvas.attr('height', height);\n",
       "\n",
       "        rubberband.attr('width', width);\n",
       "        rubberband.attr('height', height);\n",
       "    }\n",
       "\n",
       "    // Set the figure to an initial 600x600px, this will subsequently be updated\n",
       "    // upon first draw.\n",
       "    this._resize_canvas(600, 600);\n",
       "\n",
       "    // Disable right mouse context menu.\n",
       "    $(this.rubberband_canvas).bind(\"contextmenu\",function(e){\n",
       "        return false;\n",
       "    });\n",
       "\n",
       "    function set_focus () {\n",
       "        canvas.focus();\n",
       "        canvas_div.focus();\n",
       "    }\n",
       "\n",
       "    window.setTimeout(set_focus, 100);\n",
       "}\n",
       "\n",
       "mpl.figure.prototype._init_toolbar = function() {\n",
       "    var fig = this;\n",
       "\n",
       "    var nav_element = $('<div/>')\n",
       "    nav_element.attr('style', 'width: 100%');\n",
       "    this.root.append(nav_element);\n",
       "\n",
       "    // Define a callback function for later on.\n",
       "    function toolbar_event(event) {\n",
       "        return fig.toolbar_button_onclick(event['data']);\n",
       "    }\n",
       "    function toolbar_mouse_event(event) {\n",
       "        return fig.toolbar_button_onmouseover(event['data']);\n",
       "    }\n",
       "\n",
       "    for(var toolbar_ind in mpl.toolbar_items) {\n",
       "        var name = mpl.toolbar_items[toolbar_ind][0];\n",
       "        var tooltip = mpl.toolbar_items[toolbar_ind][1];\n",
       "        var image = mpl.toolbar_items[toolbar_ind][2];\n",
       "        var method_name = mpl.toolbar_items[toolbar_ind][3];\n",
       "\n",
       "        if (!name) {\n",
       "            // put a spacer in here.\n",
       "            continue;\n",
       "        }\n",
       "        var button = $('<button/>');\n",
       "        button.addClass('ui-button ui-widget ui-state-default ui-corner-all ' +\n",
       "                        'ui-button-icon-only');\n",
       "        button.attr('role', 'button');\n",
       "        button.attr('aria-disabled', 'false');\n",
       "        button.click(method_name, toolbar_event);\n",
       "        button.mouseover(tooltip, toolbar_mouse_event);\n",
       "\n",
       "        var icon_img = $('<span/>');\n",
       "        icon_img.addClass('ui-button-icon-primary ui-icon');\n",
       "        icon_img.addClass(image);\n",
       "        icon_img.addClass('ui-corner-all');\n",
       "\n",
       "        var tooltip_span = $('<span/>');\n",
       "        tooltip_span.addClass('ui-button-text');\n",
       "        tooltip_span.html(tooltip);\n",
       "\n",
       "        button.append(icon_img);\n",
       "        button.append(tooltip_span);\n",
       "\n",
       "        nav_element.append(button);\n",
       "    }\n",
       "\n",
       "    var fmt_picker_span = $('<span/>');\n",
       "\n",
       "    var fmt_picker = $('<select/>');\n",
       "    fmt_picker.addClass('mpl-toolbar-option ui-widget ui-widget-content');\n",
       "    fmt_picker_span.append(fmt_picker);\n",
       "    nav_element.append(fmt_picker_span);\n",
       "    this.format_dropdown = fmt_picker[0];\n",
       "\n",
       "    for (var ind in mpl.extensions) {\n",
       "        var fmt = mpl.extensions[ind];\n",
       "        var option = $(\n",
       "            '<option/>', {selected: fmt === mpl.default_extension}).html(fmt);\n",
       "        fmt_picker.append(option)\n",
       "    }\n",
       "\n",
       "    // Add hover states to the ui-buttons\n",
       "    $( \".ui-button\" ).hover(\n",
       "        function() { $(this).addClass(\"ui-state-hover\");},\n",
       "        function() { $(this).removeClass(\"ui-state-hover\");}\n",
       "    );\n",
       "\n",
       "    var status_bar = $('<span class=\"mpl-message\"/>');\n",
       "    nav_element.append(status_bar);\n",
       "    this.message = status_bar[0];\n",
       "}\n",
       "\n",
       "mpl.figure.prototype.request_resize = function(x_pixels, y_pixels) {\n",
       "    // Request matplotlib to resize the figure. Matplotlib will then trigger a resize in the client,\n",
       "    // which will in turn request a refresh of the image.\n",
       "    this.send_message('resize', {'width': x_pixels, 'height': y_pixels});\n",
       "}\n",
       "\n",
       "mpl.figure.prototype.send_message = function(type, properties) {\n",
       "    properties['type'] = type;\n",
       "    properties['figure_id'] = this.id;\n",
       "    this.ws.send(JSON.stringify(properties));\n",
       "}\n",
       "\n",
       "mpl.figure.prototype.send_draw_message = function() {\n",
       "    if (!this.waiting) {\n",
       "        this.waiting = true;\n",
       "        this.ws.send(JSON.stringify({type: \"draw\", figure_id: this.id}));\n",
       "    }\n",
       "}\n",
       "\n",
       "\n",
       "mpl.figure.prototype.handle_save = function(fig, msg) {\n",
       "    var format_dropdown = fig.format_dropdown;\n",
       "    var format = format_dropdown.options[format_dropdown.selectedIndex].value;\n",
       "    fig.ondownload(fig, format);\n",
       "}\n",
       "\n",
       "\n",
       "mpl.figure.prototype.handle_resize = function(fig, msg) {\n",
       "    var size = msg['size'];\n",
       "    if (size[0] != fig.canvas.width || size[1] != fig.canvas.height) {\n",
       "        fig._resize_canvas(size[0], size[1]);\n",
       "        fig.send_message(\"refresh\", {});\n",
       "    };\n",
       "}\n",
       "\n",
       "mpl.figure.prototype.handle_rubberband = function(fig, msg) {\n",
       "    var x0 = msg['x0'];\n",
       "    var y0 = fig.canvas.height - msg['y0'];\n",
       "    var x1 = msg['x1'];\n",
       "    var y1 = fig.canvas.height - msg['y1'];\n",
       "    x0 = Math.floor(x0) + 0.5;\n",
       "    y0 = Math.floor(y0) + 0.5;\n",
       "    x1 = Math.floor(x1) + 0.5;\n",
       "    y1 = Math.floor(y1) + 0.5;\n",
       "    var min_x = Math.min(x0, x1);\n",
       "    var min_y = Math.min(y0, y1);\n",
       "    var width = Math.abs(x1 - x0);\n",
       "    var height = Math.abs(y1 - y0);\n",
       "\n",
       "    fig.rubberband_context.clearRect(\n",
       "        0, 0, fig.canvas.width, fig.canvas.height);\n",
       "\n",
       "    fig.rubberband_context.strokeRect(min_x, min_y, width, height);\n",
       "}\n",
       "\n",
       "mpl.figure.prototype.handle_figure_label = function(fig, msg) {\n",
       "    // Updates the figure title.\n",
       "    fig.header.textContent = msg['label'];\n",
       "}\n",
       "\n",
       "mpl.figure.prototype.handle_cursor = function(fig, msg) {\n",
       "    var cursor = msg['cursor'];\n",
       "    switch(cursor)\n",
       "    {\n",
       "    case 0:\n",
       "        cursor = 'pointer';\n",
       "        break;\n",
       "    case 1:\n",
       "        cursor = 'default';\n",
       "        break;\n",
       "    case 2:\n",
       "        cursor = 'crosshair';\n",
       "        break;\n",
       "    case 3:\n",
       "        cursor = 'move';\n",
       "        break;\n",
       "    }\n",
       "    fig.rubberband_canvas.style.cursor = cursor;\n",
       "}\n",
       "\n",
       "mpl.figure.prototype.handle_message = function(fig, msg) {\n",
       "    fig.message.textContent = msg['message'];\n",
       "}\n",
       "\n",
       "mpl.figure.prototype.handle_draw = function(fig, msg) {\n",
       "    // Request the server to send over a new figure.\n",
       "    fig.send_draw_message();\n",
       "}\n",
       "\n",
       "mpl.figure.prototype.handle_image_mode = function(fig, msg) {\n",
       "    fig.image_mode = msg['mode'];\n",
       "}\n",
       "\n",
       "mpl.figure.prototype.updated_canvas_event = function() {\n",
       "    // Called whenever the canvas gets updated.\n",
       "    this.send_message(\"ack\", {});\n",
       "}\n",
       "\n",
       "// A function to construct a web socket function for onmessage handling.\n",
       "// Called in the figure constructor.\n",
       "mpl.figure.prototype._make_on_message_function = function(fig) {\n",
       "    return function socket_on_message(evt) {\n",
       "        if (evt.data instanceof Blob) {\n",
       "            /* FIXME: We get \"Resource interpreted as Image but\n",
       "             * transferred with MIME type text/plain:\" errors on\n",
       "             * Chrome.  But how to set the MIME type?  It doesn't seem\n",
       "             * to be part of the websocket stream */\n",
       "            evt.data.type = \"image/png\";\n",
       "\n",
       "            /* Free the memory for the previous frames */\n",
       "            if (fig.imageObj.src) {\n",
       "                (window.URL || window.webkitURL).revokeObjectURL(\n",
       "                    fig.imageObj.src);\n",
       "            }\n",
       "\n",
       "            fig.imageObj.src = (window.URL || window.webkitURL).createObjectURL(\n",
       "                evt.data);\n",
       "            fig.updated_canvas_event();\n",
       "            fig.waiting = false;\n",
       "            return;\n",
       "        }\n",
       "        else if (typeof evt.data === 'string' && evt.data.slice(0, 21) == \"data:image/png;base64\") {\n",
       "            fig.imageObj.src = evt.data;\n",
       "            fig.updated_canvas_event();\n",
       "            fig.waiting = false;\n",
       "            return;\n",
       "        }\n",
       "\n",
       "        var msg = JSON.parse(evt.data);\n",
       "        var msg_type = msg['type'];\n",
       "\n",
       "        // Call the  \"handle_{type}\" callback, which takes\n",
       "        // the figure and JSON message as its only arguments.\n",
       "        try {\n",
       "            var callback = fig[\"handle_\" + msg_type];\n",
       "        } catch (e) {\n",
       "            console.log(\"No handler for the '\" + msg_type + \"' message type: \", msg);\n",
       "            return;\n",
       "        }\n",
       "\n",
       "        if (callback) {\n",
       "            try {\n",
       "                // console.log(\"Handling '\" + msg_type + \"' message: \", msg);\n",
       "                callback(fig, msg);\n",
       "            } catch (e) {\n",
       "                console.log(\"Exception inside the 'handler_\" + msg_type + \"' callback:\", e, e.stack, msg);\n",
       "            }\n",
       "        }\n",
       "    };\n",
       "}\n",
       "\n",
       "// from http://stackoverflow.com/questions/1114465/getting-mouse-location-in-canvas\n",
       "mpl.findpos = function(e) {\n",
       "    //this section is from http://www.quirksmode.org/js/events_properties.html\n",
       "    var targ;\n",
       "    if (!e)\n",
       "        e = window.event;\n",
       "    if (e.target)\n",
       "        targ = e.target;\n",
       "    else if (e.srcElement)\n",
       "        targ = e.srcElement;\n",
       "    if (targ.nodeType == 3) // defeat Safari bug\n",
       "        targ = targ.parentNode;\n",
       "\n",
       "    // jQuery normalizes the pageX and pageY\n",
       "    // pageX,Y are the mouse positions relative to the document\n",
       "    // offset() returns the position of the element relative to the document\n",
       "    var x = e.pageX - $(targ).offset().left;\n",
       "    var y = e.pageY - $(targ).offset().top;\n",
       "\n",
       "    return {\"x\": x, \"y\": y};\n",
       "};\n",
       "\n",
       "/*\n",
       " * return a copy of an object with only non-object keys\n",
       " * we need this to avoid circular references\n",
       " * http://stackoverflow.com/a/24161582/3208463\n",
       " */\n",
       "function simpleKeys (original) {\n",
       "  return Object.keys(original).reduce(function (obj, key) {\n",
       "    if (typeof original[key] !== 'object')\n",
       "        obj[key] = original[key]\n",
       "    return obj;\n",
       "  }, {});\n",
       "}\n",
       "\n",
       "mpl.figure.prototype.mouse_event = function(event, name) {\n",
       "    var canvas_pos = mpl.findpos(event)\n",
       "\n",
       "    if (name === 'button_press')\n",
       "    {\n",
       "        this.canvas.focus();\n",
       "        this.canvas_div.focus();\n",
       "    }\n",
       "\n",
       "    var x = canvas_pos.x;\n",
       "    var y = canvas_pos.y;\n",
       "\n",
       "    this.send_message(name, {x: x, y: y, button: event.button,\n",
       "                             step: event.step,\n",
       "                             guiEvent: simpleKeys(event)});\n",
       "\n",
       "    /* This prevents the web browser from automatically changing to\n",
       "     * the text insertion cursor when the button is pressed.  We want\n",
       "     * to control all of the cursor setting manually through the\n",
       "     * 'cursor' event from matplotlib */\n",
       "    event.preventDefault();\n",
       "    return false;\n",
       "}\n",
       "\n",
       "mpl.figure.prototype._key_event_extra = function(event, name) {\n",
       "    // Handle any extra behaviour associated with a key event\n",
       "}\n",
       "\n",
       "mpl.figure.prototype.key_event = function(event, name) {\n",
       "\n",
       "    // Prevent repeat events\n",
       "    if (name == 'key_press')\n",
       "    {\n",
       "        if (event.which === this._key)\n",
       "            return;\n",
       "        else\n",
       "            this._key = event.which;\n",
       "    }\n",
       "    if (name == 'key_release')\n",
       "        this._key = null;\n",
       "\n",
       "    var value = '';\n",
       "    if (event.ctrlKey && event.which != 17)\n",
       "        value += \"ctrl+\";\n",
       "    if (event.altKey && event.which != 18)\n",
       "        value += \"alt+\";\n",
       "    if (event.shiftKey && event.which != 16)\n",
       "        value += \"shift+\";\n",
       "\n",
       "    value += 'k';\n",
       "    value += event.which.toString();\n",
       "\n",
       "    this._key_event_extra(event, name);\n",
       "\n",
       "    this.send_message(name, {key: value,\n",
       "                             guiEvent: simpleKeys(event)});\n",
       "    return false;\n",
       "}\n",
       "\n",
       "mpl.figure.prototype.toolbar_button_onclick = function(name) {\n",
       "    if (name == 'download') {\n",
       "        this.handle_save(this, null);\n",
       "    } else {\n",
       "        this.send_message(\"toolbar_button\", {name: name});\n",
       "    }\n",
       "};\n",
       "\n",
       "mpl.figure.prototype.toolbar_button_onmouseover = function(tooltip) {\n",
       "    this.message.textContent = tooltip;\n",
       "};\n",
       "mpl.toolbar_items = [[\"Home\", \"Reset original view\", \"fa fa-home icon-home\", \"home\"], [\"Back\", \"Back to  previous view\", \"fa fa-arrow-left icon-arrow-left\", \"back\"], [\"Forward\", \"Forward to next view\", \"fa fa-arrow-right icon-arrow-right\", \"forward\"], [\"\", \"\", \"\", \"\"], [\"Pan\", \"Pan axes with left mouse, zoom with right\", \"fa fa-arrows icon-move\", \"pan\"], [\"Zoom\", \"Zoom to rectangle\", \"fa fa-square-o icon-check-empty\", \"zoom\"], [\"\", \"\", \"\", \"\"], [\"Download\", \"Download plot\", \"fa fa-floppy-o icon-save\", \"download\"]];\n",
       "\n",
       "mpl.extensions = [\"eps\", \"jpeg\", \"pdf\", \"png\", \"ps\", \"raw\", \"svg\", \"tif\"];\n",
       "\n",
       "mpl.default_extension = \"png\";var comm_websocket_adapter = function(comm) {\n",
       "    // Create a \"websocket\"-like object which calls the given IPython comm\n",
       "    // object with the appropriate methods. Currently this is a non binary\n",
       "    // socket, so there is still some room for performance tuning.\n",
       "    var ws = {};\n",
       "\n",
       "    ws.close = function() {\n",
       "        comm.close()\n",
       "    };\n",
       "    ws.send = function(m) {\n",
       "        //console.log('sending', m);\n",
       "        comm.send(m);\n",
       "    };\n",
       "    // Register the callback with on_msg.\n",
       "    comm.on_msg(function(msg) {\n",
       "        //console.log('receiving', msg['content']['data'], msg);\n",
       "        // Pass the mpl event to the overriden (by mpl) onmessage function.\n",
       "        ws.onmessage(msg['content']['data'])\n",
       "    });\n",
       "    return ws;\n",
       "}\n",
       "\n",
       "mpl.mpl_figure_comm = function(comm, msg) {\n",
       "    // This is the function which gets called when the mpl process\n",
       "    // starts-up an IPython Comm through the \"matplotlib\" channel.\n",
       "\n",
       "    var id = msg.content.data.id;\n",
       "    // Get hold of the div created by the display call when the Comm\n",
       "    // socket was opened in Python.\n",
       "    var element = $(\"#\" + id);\n",
       "    var ws_proxy = comm_websocket_adapter(comm)\n",
       "\n",
       "    function ondownload(figure, format) {\n",
       "        window.open(figure.imageObj.src);\n",
       "    }\n",
       "\n",
       "    var fig = new mpl.figure(id, ws_proxy,\n",
       "                           ondownload,\n",
       "                           element.get(0));\n",
       "\n",
       "    // Call onopen now - mpl needs it, as it is assuming we've passed it a real\n",
       "    // web socket which is closed, not our websocket->open comm proxy.\n",
       "    ws_proxy.onopen();\n",
       "\n",
       "    fig.parent_element = element.get(0);\n",
       "    fig.cell_info = mpl.find_output_cell(\"<div id='\" + id + \"'></div>\");\n",
       "    if (!fig.cell_info) {\n",
       "        console.error(\"Failed to find cell for figure\", id, fig);\n",
       "        return;\n",
       "    }\n",
       "\n",
       "    var output_index = fig.cell_info[2]\n",
       "    var cell = fig.cell_info[0];\n",
       "\n",
       "};\n",
       "\n",
       "mpl.figure.prototype.handle_close = function(fig, msg) {\n",
       "    fig.root.unbind('remove')\n",
       "\n",
       "    // Update the output cell to use the data from the current canvas.\n",
       "    fig.push_to_output();\n",
       "    var dataURL = fig.canvas.toDataURL();\n",
       "    // Re-enable the keyboard manager in IPython - without this line, in FF,\n",
       "    // the notebook keyboard shortcuts fail.\n",
       "    IPython.keyboard_manager.enable()\n",
       "    $(fig.parent_element).html('<img src=\"' + dataURL + '\">');\n",
       "    fig.close_ws(fig, msg);\n",
       "}\n",
       "\n",
       "mpl.figure.prototype.close_ws = function(fig, msg){\n",
       "    fig.send_message('closing', msg);\n",
       "    // fig.ws.close()\n",
       "}\n",
       "\n",
       "mpl.figure.prototype.push_to_output = function(remove_interactive) {\n",
       "    // Turn the data on the canvas into data in the output cell.\n",
       "    var dataURL = this.canvas.toDataURL();\n",
       "    this.cell_info[1]['text/html'] = '<img src=\"' + dataURL + '\">';\n",
       "}\n",
       "\n",
       "mpl.figure.prototype.updated_canvas_event = function() {\n",
       "    // Tell IPython that the notebook contents must change.\n",
       "    IPython.notebook.set_dirty(true);\n",
       "    this.send_message(\"ack\", {});\n",
       "    var fig = this;\n",
       "    // Wait a second, then push the new image to the DOM so\n",
       "    // that it is saved nicely (might be nice to debounce this).\n",
       "    setTimeout(function () { fig.push_to_output() }, 1000);\n",
       "}\n",
       "\n",
       "mpl.figure.prototype._init_toolbar = function() {\n",
       "    var fig = this;\n",
       "\n",
       "    var nav_element = $('<div/>')\n",
       "    nav_element.attr('style', 'width: 100%');\n",
       "    this.root.append(nav_element);\n",
       "\n",
       "    // Define a callback function for later on.\n",
       "    function toolbar_event(event) {\n",
       "        return fig.toolbar_button_onclick(event['data']);\n",
       "    }\n",
       "    function toolbar_mouse_event(event) {\n",
       "        return fig.toolbar_button_onmouseover(event['data']);\n",
       "    }\n",
       "\n",
       "    for(var toolbar_ind in mpl.toolbar_items){\n",
       "        var name = mpl.toolbar_items[toolbar_ind][0];\n",
       "        var tooltip = mpl.toolbar_items[toolbar_ind][1];\n",
       "        var image = mpl.toolbar_items[toolbar_ind][2];\n",
       "        var method_name = mpl.toolbar_items[toolbar_ind][3];\n",
       "\n",
       "        if (!name) { continue; };\n",
       "\n",
       "        var button = $('<button class=\"btn btn-default\" href=\"#\" title=\"' + name + '\"><i class=\"fa ' + image + ' fa-lg\"></i></button>');\n",
       "        button.click(method_name, toolbar_event);\n",
       "        button.mouseover(tooltip, toolbar_mouse_event);\n",
       "        nav_element.append(button);\n",
       "    }\n",
       "\n",
       "    // Add the status bar.\n",
       "    var status_bar = $('<span class=\"mpl-message\" style=\"text-align:right; float: right;\"/>');\n",
       "    nav_element.append(status_bar);\n",
       "    this.message = status_bar[0];\n",
       "\n",
       "    // Add the close button to the window.\n",
       "    var buttongrp = $('<div class=\"btn-group inline pull-right\"></div>');\n",
       "    var button = $('<button class=\"btn btn-mini btn-primary\" href=\"#\" title=\"Stop Interaction\"><i class=\"fa fa-power-off icon-remove icon-large\"></i></button>');\n",
       "    button.click(function (evt) { fig.handle_close(fig, {}); } );\n",
       "    button.mouseover('Stop Interaction', toolbar_mouse_event);\n",
       "    buttongrp.append(button);\n",
       "    var titlebar = this.root.find($('.ui-dialog-titlebar'));\n",
       "    titlebar.prepend(buttongrp);\n",
       "}\n",
       "\n",
       "mpl.figure.prototype._root_extra_style = function(el){\n",
       "    var fig = this\n",
       "    el.on(\"remove\", function(){\n",
       "\tfig.close_ws(fig, {});\n",
       "    });\n",
       "}\n",
       "\n",
       "mpl.figure.prototype._canvas_extra_style = function(el){\n",
       "    // this is important to make the div 'focusable\n",
       "    el.attr('tabindex', 0)\n",
       "    // reach out to IPython and tell the keyboard manager to turn it's self\n",
       "    // off when our div gets focus\n",
       "\n",
       "    // location in version 3\n",
       "    if (IPython.notebook.keyboard_manager) {\n",
       "        IPython.notebook.keyboard_manager.register_events(el);\n",
       "    }\n",
       "    else {\n",
       "        // location in version 2\n",
       "        IPython.keyboard_manager.register_events(el);\n",
       "    }\n",
       "\n",
       "}\n",
       "\n",
       "mpl.figure.prototype._key_event_extra = function(event, name) {\n",
       "    var manager = IPython.notebook.keyboard_manager;\n",
       "    if (!manager)\n",
       "        manager = IPython.keyboard_manager;\n",
       "\n",
       "    // Check for shift+enter\n",
       "    if (event.shiftKey && event.which == 13) {\n",
       "        this.canvas_div.blur();\n",
       "        event.shiftKey = false;\n",
       "        // Send a \"J\" for go to next cell\n",
       "        event.which = 74;\n",
       "        event.keyCode = 74;\n",
       "        manager.command_mode();\n",
       "        manager.handle_keydown(event);\n",
       "    }\n",
       "}\n",
       "\n",
       "mpl.figure.prototype.handle_save = function(fig, msg) {\n",
       "    fig.ondownload(fig, null);\n",
       "}\n",
       "\n",
       "\n",
       "mpl.find_output_cell = function(html_output) {\n",
       "    // Return the cell and output element which can be found *uniquely* in the notebook.\n",
       "    // Note - this is a bit hacky, but it is done because the \"notebook_saving.Notebook\"\n",
       "    // IPython event is triggered only after the cells have been serialised, which for\n",
       "    // our purposes (turning an active figure into a static one), is too late.\n",
       "    var cells = IPython.notebook.get_cells();\n",
       "    var ncells = cells.length;\n",
       "    for (var i=0; i<ncells; i++) {\n",
       "        var cell = cells[i];\n",
       "        if (cell.cell_type === 'code'){\n",
       "            for (var j=0; j<cell.output_area.outputs.length; j++) {\n",
       "                var data = cell.output_area.outputs[j];\n",
       "                if (data.data) {\n",
       "                    // IPython >= 3 moved mimebundle to data attribute of output\n",
       "                    data = data.data;\n",
       "                }\n",
       "                if (data['text/html'] == html_output) {\n",
       "                    return [cell, data, j];\n",
       "                }\n",
       "            }\n",
       "        }\n",
       "    }\n",
       "}\n",
       "\n",
       "// Register the function which deals with the matplotlib target/channel.\n",
       "// The kernel may be null if the page has been refreshed.\n",
       "if (IPython.notebook.kernel != null) {\n",
       "    IPython.notebook.kernel.comm_manager.register_target('matplotlib', mpl.mpl_figure_comm);\n",
       "}\n"
      ],
      "text/plain": [
       "<IPython.core.display.Javascript object>"
      ]
     },
     "metadata": {},
     "output_type": "display_data"
    },
    {
     "data": {
      "text/html": [
       "<img src=\"data:image/png;base64,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\">"
      ],
      "text/plain": [
       "<IPython.core.display.HTML object>"
      ]
     },
     "metadata": {},
     "output_type": "display_data"
    },
    {
     "name": "stdout",
     "output_type": "stream",
     "text": [
      "\n"
     ]
    }
   ],
   "source": [
    "sl.hide_code_in_slideshow()\n",
    "#%matplotlib inline\n",
    "%matplotlib nbagg\n",
    "ax = ut.plotSetup3d(-5,5,-7,7,-10,10,figsize=(12,8))\n",
    "a1 = [1.0,-4.0,-3.0]\n",
    "a2 = [3.0,2.0,-2.0]\n",
    "a3 = [4.0, -6.0, -7]\n",
    "ax.text(a1[0],a1[1],a1[2],r'$\\bf a_1$',size=20)\n",
    "ax.text(a2[0],a2[1],a2[2],r'$\\bf a_2$',size=20)\n",
    "ax.text(a3[0],a3[1],a3[2],r'$\\bf a_3$',size=20)\n",
    "#ax.text(1,-4,-10,r'Span{$\\bf a_1,a_2,a_3$}',size=16)\n",
    "ax.text(0.2,0.2,-4,r'$\\bf 0$',size=20)\n",
    "# plotting the span of v\n",
    "ut.plotSpan3d(ax,a1,a2,'Green')\n",
    "ut.plotPoint3d(ax,a1[0],a1[1],a1[2],'r')\n",
    "ut.plotPoint3d(ax,a2[0],a2[1],a2[2],'r')\n",
    "ut.plotPoint3d(ax,a3[0],a3[1],a3[2],'r')\n",
    "ut.plotPoint3d(ax,0,0,0,'b')\n",
    "# plotting the axes\n",
    "#ut.plotIntersection3d(ax,[0,0,1,0],[0,1,0,0])\n",
    "#ut.plotIntersection3d(ax,[0,0,1,0],[1,0,0,0])\n",
    "#ut.plotIntersection3d(ax,[0,1,0,0],[1,0,0,0])\n",
    "ax.set_title(r'$b_1 - \\frac{1}{2}b_2 + b_3 = 0$',size=20)\n",
    "# ax.mouse_init()\n",
    "print('')"
   ]
  },
  {
   "cell_type": "code",
   "execution_count": null,
   "metadata": {
    "collapsed": true
   },
   "outputs": [],
   "source": []
  },
  {
   "cell_type": "markdown",
   "metadata": {
    "internals": {
     "frag_helper": "fragment_end",
     "frag_number": 43
    },
    "slideshow": {
     "slide_type": "fragment"
    }
   },
   "source": [
    "The set of points that makes $b_1 - \\frac{1}{2}b_2 + b_3 = 0$ is the set of $\\bf b$ values that makes $A{\\bf x} = {\\bf b}$ consistent.  But if $A{\\bf x} = {\\bf b}$ then ${\\bf b}$ lies within Span$\\{\\bf a_1, a_2, a_3\\}$.  "
   ]
  },
  {
   "cell_type": "markdown",
   "metadata": {
    "internals": {
     "frag_helper": "fragment_end",
     "frag_number": 44
    },
    "slideshow": {
     "slide_type": "fragment"
    }
   },
   "source": [
    "So we have determined that Span$\\{\\bf a_1, a_2, a_3\\}$ is the same point set as $b_1 - \\frac{1}{2}b_2 + b_3 = 0$.\n",
    "\n",
    "That means that Span$\\{\\bf a_1, a_2, a_3\\}$ is a _plane_ in this case.  In the figure we have plotted $\\bf a_1, a_2,$ and $\\bf a_3$ and you can see that all three points, as well as the origin, lie in the same plane."
   ]
  },
  {
   "cell_type": "markdown",
   "metadata": {
    "internals": {
     "frag_helper": "fragment_end",
     "frag_number": 45,
     "slide_helper": "subslide_end"
    },
    "slide_helper": "slide_end",
    "slideshow": {
     "slide_type": "fragment"
    }
   },
   "source": [
    "Now, in the most general case, four points will _not_ line in a plane.  In other words, the span of three vectors in $\\mathbb{R}^3$ can be the whole space $\\mathbb{R}^3$."
   ]
  },
  {
   "cell_type": "markdown",
   "metadata": {
    "internals": {
     "frag_helper": "fragment_end",
     "frag_number": 45,
     "slide_helper": "subslide_end",
     "slide_type": "subslide"
    },
    "slide_helper": "slide_end",
    "slideshow": {
     "slide_type": "slide"
    }
   },
   "source": [
    "## Question Time! Q5.3"
   ]
  },
  {
   "cell_type": "markdown",
   "metadata": {
    "internals": {
     "frag_helper": "fragment_end",
     "frag_number": 45,
     "slide_type": "subslide"
    },
    "slideshow": {
     "slide_type": "slide"
    }
   },
   "source": [
    "Now we will tie together all three views of our question.\n",
    "\n",
    "__Theorem:__ Let $A$ be an $m \\times n$ matrix.  Then the following statements are logically equivalent.  That is, for a particular $A,$ either they are all true or they are all false.\n",
    "\n",
    "1. For each $\\bf b$ in $\\mathbb{R}^m,$ the equation $A{\\bf x} = {\\bf b}$ has a solution.\n",
    "1. Each $\\bf b$ in $\\mathbb{R}^m$ is a linear combination of the columns of $A$.\n",
    "1. The columns of $A$ span $\\mathbb{R}^m$.\n",
    "1. $A$ has a pivot position in every row."
   ]
  },
  {
   "cell_type": "markdown",
   "metadata": {
    "internals": {
     "frag_helper": "fragment_end",
     "frag_number": 48,
     "slide_helper": "subslide_end"
    },
    "slide_helper": "slide_end",
    "slideshow": {
     "slide_type": "fragment"
    }
   },
   "source": [
    "This theorem is very powerful and general.  Notice that we started by thinking about a matrix equation, but we ended by making statements about $A$ alone.  This is the first time we are studying the property of a matrix itself; we will study many properties of matrices on their own as we progress."
   ]
  },
  {
   "cell_type": "markdown",
   "metadata": {
    "internals": {
     "frag_helper": "fragment_end",
     "frag_number": 48,
     "slide_type": "subslide"
    },
    "slideshow": {
     "slide_type": "slide"
    }
   },
   "source": [
    "## Inner Product"
   ]
  },
  {
   "cell_type": "markdown",
   "metadata": {
    "internals": {
     "frag_helper": "fragment_end",
     "frag_number": 48
    },
    "slideshow": {
     "slide_type": "-"
    }
   },
   "source": [
    "There is a simpler way to compute the matrix-vector product.  It uses a concept called the __inner product__ or __dot product.__\n",
    "\n",
    "The inner product is defined for two sequences of numbers, and returns a single number.   For example, the expression\n",
    "\n",
    "$$[3\\;5\\;1] \\left[\\begin{array}{c}2\\\\-1\\\\4\\end{array}\\right]$$\n",
    "\n",
    "is the same as\n",
    "\n",
    "$$(3\\cdot 2) + (5\\cdot -1) + (1 \\cdot 4)$$\n",
    "\n",
    "which is the sum of the products of the corresponding entries, and yields the scalar value 5.  This is the inner product of the two sequences."
   ]
  },
  {
   "cell_type": "markdown",
   "metadata": {
    "internals": {
     "frag_helper": "fragment_end",
     "frag_number": 51,
     "slide_helper": "subslide_end"
    },
    "slide_helper": "slide_end",
    "slideshow": {
     "slide_type": "fragment"
    }
   },
   "source": [
    "The general definition of the inner product is:\n",
    "\n",
    "$$[x_1\\;x_2\\;\\dots\\;x_n] \\left[\\begin{array}{c}y_1\\\\y_2\\\\\\vdots\\\\y_n\\end{array}\\right] = \\sum_{i=1}^n x_i y_i$$\n"
   ]
  },
  {
   "cell_type": "markdown",
   "metadata": {
    "internals": {
     "frag_helper": "fragment_end",
     "frag_number": 51,
     "slide_type": "subslide"
    },
    "slideshow": {
     "slide_type": "slide"
    }
   },
   "source": [
    "Let's see how this can be used to think about matrix-vector multiplication.\n",
    "\n",
    "Consider the matrix-vector multiplication\n",
    "\n",
    "$$\\left[\\begin{array}{rrr}2&3&4\\\\-1&5&-3\\\\6&-2&8\\end{array}\\right]\\;\\left[\\begin{array}{r}x_1\\\\x_2\\\\x_3\\end{array}\\right]$$"
   ]
  },
  {
   "cell_type": "markdown",
   "metadata": {
    "internals": {
     "frag_helper": "fragment_end",
     "frag_number": 53
    },
    "slideshow": {
     "slide_type": "fragment"
    }
   },
   "source": [
    "\n",
    "$$= x_1\\left[\\begin{array}{r}2\\\\-1\\\\6\\end{array}\\right] + x_2\\left[\\begin{array}{r}3\\\\5\\\\-2\\end{array}\\right] + x_3\\left[\\begin{array}{r}4\\\\-3\\\\8\\end{array}\\right]$$"
   ]
  },
  {
   "cell_type": "markdown",
   "metadata": {
    "internals": {
     "frag_helper": "fragment_end",
     "frag_number": 54
    },
    "slideshow": {
     "slide_type": "fragment"
    }
   },
   "source": [
    "\n",
    "$$= \\left[\\begin{array}{r}2x_1\\\\-1x_1\\\\6x_1\\end{array}\\right] + \\left[\\begin{array}{r}3x_2\\\\5x_2\\\\-2x_2\\end{array}\\right] + \\left[\\begin{array}{r}4x_3\\\\-3x_3\\\\8x_3\\end{array}\\right]$$"
   ]
  },
  {
   "cell_type": "markdown",
   "metadata": {
    "internals": {
     "frag_helper": "fragment_end",
     "frag_number": 55
    },
    "slideshow": {
     "slide_type": "fragment"
    }
   },
   "source": [
    "\n",
    "$$= \\left[\\begin{array}{r}2x_1+3x_2+4x_3\\\\-1x_1+5x_2-3x_3\\\\6x_1-2x_2+8x_3\\end{array}\\right] $$"
   ]
  },
  {
   "cell_type": "markdown",
   "metadata": {
    "internals": {
     "frag_helper": "fragment_end",
     "frag_number": 56,
     "slide_helper": "subslide_end"
    },
    "slide_helper": "slide_end",
    "slideshow": {
     "slide_type": "fragment"
    }
   },
   "source": [
    "Now, what is the first entry in the result?  It is the _inner product_ of the first row of $A$ and $\\bf x$.  That is, \n",
    "\n",
    "$$[2\\;3\\;4] \\left[\\begin{array}{c}x_1\\\\x_2\\\\x_3\\end{array}\\right] = [2x_1+3x_2+4x_3]$$"
   ]
  },
  {
   "cell_type": "markdown",
   "metadata": {
    "internals": {
     "frag_helper": "fragment_end",
     "frag_number": 56,
     "slide_type": "subslide"
    },
    "slideshow": {
     "slide_type": "slide"
    }
   },
   "source": [
    "This is a fast and simple way to compute the result of a matrix-vector product.  Each element of the result is the _inner product_ of the corresponding row of $A$ and the vector $\\bf x$."
   ]
  },
  {
   "cell_type": "markdown",
   "metadata": {
    "internals": {
     "frag_helper": "fragment_end",
     "frag_number": 58,
     "slide_helper": "subslide_end"
    },
    "slide_helper": "slide_end",
    "slideshow": {
     "slide_type": "fragment"
    }
   },
   "source": [
    "$$ \\left[\\begin{array}{ccc}2&3&4\\\\&&\\\\&&\\end{array}\\right]\\left[\\begin{array}{c}x_1\\\\x_2\\\\x_3\\end{array}\\right] = \\left[\\begin{array}{ccc}2x_1&+3x_2&+4x_3\\\\&&\\\\&&\\end{array}\\right]$$\n",
    "\n",
    "$$ \\left[\\begin{array}{ccc}&&\\\\-1&5&-3\\\\&&\\end{array}\\right]\\left[\\begin{array}{c}x_1\\\\x_2\\\\x_3\\end{array}\\right] = \\left[\\begin{array}{ccc}&&\\\\-x_1&+5x_2&-3x_3\\\\&&\\end{array}\\right]$$"
   ]
  },
  {
   "cell_type": "markdown",
   "metadata": {
    "internals": {
     "frag_helper": "fragment_end",
     "frag_number": 58,
     "slide_type": "subslide"
    },
    "slideshow": {
     "slide_type": "slide"
    }
   },
   "source": [
    "## Example."
   ]
  },
  {
   "cell_type": "markdown",
   "metadata": {
    "internals": {
     "frag_helper": "fragment_end",
     "frag_number": 58,
     "slide_helper": "subslide_end"
    },
    "slide_helper": "slide_end",
    "slideshow": {
     "slide_type": "-"
    }
   },
   "source": [
    "$$\\left[\\begin{array}{rrr}1&2&-1\\\\0&-5&3\\end{array}\\right]\\left[\\begin{array}{r}4\\\\3\\\\7\\end{array}\\right] = \\left[\\begin{array}{rrr}1\\cdot 4&+2\\cdot 3&-1\\cdot 7\\\\0\\cdot 4&-5\\cdot 3&+3\\cdot 7\\end{array}\\right] = \\left[\\begin{array}{r}3\\\\6\\end{array}\\right].$$"
   ]
  },
  {
   "cell_type": "markdown",
   "metadata": {
    "internals": {
     "frag_helper": "fragment_end",
     "frag_number": 58,
     "slide_type": "subslide"
    },
    "slideshow": {
     "slide_type": "slide"
    }
   },
   "source": [
    "## An (I)nteresting matrix"
   ]
  },
  {
   "cell_type": "markdown",
   "metadata": {
    "internals": {
     "frag_helper": "fragment_end",
     "frag_number": 58
    },
    "slideshow": {
     "slide_type": "-"
    }
   },
   "source": [
    "Consider this matrix equation:\n",
    "\n",
    "$$\\left[\\begin{array}{rrr}1&0&0\\\\0&1&0\\\\0&0&1\\end{array}\\right]\\;\\left[\\begin{array}{r}r\\\\s\\\\t\\end{array}\\right] = \\left[\\begin{array}{rrr}1\\cdot r&+0\\cdot s&+0\\cdot t\\\\0\\cdot r&+1\\cdot s&+0\\cdot t\\\\0\\cdot r&+0\\cdot s&+1\\cdot t\\end{array}\\right] = \\left[\\begin{array}{r}r\\\\s\\\\t\\end{array}\\right].$$"
   ]
  },
  {
   "cell_type": "markdown",
   "metadata": {
    "internals": {
     "frag_helper": "fragment_end",
     "frag_number": 63,
     "slide_helper": "subslide_end"
    },
    "slide_helper": "slide_end",
    "slideshow": {
     "slide_type": "fragment"
    }
   },
   "source": [
    "This sort of matrix -- with 1s on the diagonal and 0s everywhere else -- is called an __identity matrix__ and is denoted by $I$.\n",
    "\n",
    "You can see that for any $\\bf x$, $I\\bf x = x.$"
   ]
  },
  {
   "cell_type": "markdown",
   "metadata": {
    "internals": {
     "frag_helper": "fragment_end",
     "frag_number": 63,
     "slide_type": "subslide"
    },
    "slideshow": {
     "slide_type": "slide"
    }
   },
   "source": [
    "## Algebraic Properties of the Matrix-Vector Product"
   ]
  },
  {
   "cell_type": "markdown",
   "metadata": {
    "internals": {
     "frag_helper": "fragment_end",
     "frag_number": 63
    },
    "slideshow": {
     "slide_type": "-"
    }
   },
   "source": [
    "__Theorem.__ If $A$ is an $m \\times n$ matrix, $\\bf u$ and $\\bf v$ are vectors in $\\mathbb{R}^n$, and $c$ is a scalar, then:\n",
    "\n",
    "1. $A({\\bf u} + {\\bf v}) = A{\\bf u} + A{\\bf v};$\n",
    "1. $A(c{\\bf u}) = c(A{\\bf u}).$"
   ]
  },
  {
   "cell_type": "markdown",
   "metadata": {
    "internals": {
     "frag_helper": "fragment_end",
     "frag_number": 66
    },
    "slideshow": {
     "slide_type": "fragment"
    }
   },
   "source": [
    "__Proof:__ Let us take $n=3$, $A = [\\bf a_1\\;a_2\\;a_3],$ and $\\bf u,v \\in \\mathbb{R}^3.$  \n",
    "\n",
    "Then to prove (1.):\n",
    "\n",
    "$$A({\\bf u} + {\\bf v}) = [{\\bf a_1\\;a_2\\;a_3}]\\left[\\begin{array}{r}u_1+v_1\\\\u_2+v_2\\\\u_3+v_3\\end{array}\\right]$$"
   ]
  },
  {
   "cell_type": "markdown",
   "metadata": {
    "internals": {
     "frag_helper": "fragment_end",
     "frag_number": 67
    },
    "slideshow": {
     "slide_type": "fragment"
    }
   },
   "source": [
    "\n",
    "$$=(u_1+v_1){\\bf a_1} + (u_2+v_2){\\bf a_2} + (u_3+v_3){\\bf a_3}$$"
   ]
  },
  {
   "cell_type": "markdown",
   "metadata": {
    "internals": {
     "frag_helper": "fragment_end",
     "frag_number": 68
    },
    "slideshow": {
     "slide_type": "fragment"
    }
   },
   "source": [
    "\n",
    "$$=(u_1{\\bf a_1} + u_2{\\bf a_2} + u_3{\\bf a_3}) + (v_1{\\bf a_1} + v_2{\\bf a_2} + v_3{\\bf a_3})$$"
   ]
  },
  {
   "cell_type": "markdown",
   "metadata": {
    "internals": {
     "frag_helper": "fragment_end",
     "frag_number": 69
    },
    "slideshow": {
     "slide_type": "fragment"
    }
   },
   "source": [
    "\n",
    "$$=A{\\bf u} + A{\\bf v}.$$"
   ]
  },
  {
   "cell_type": "markdown",
   "metadata": {
    "internals": {
     "frag_helper": "fragment_end",
     "frag_number": 70
    },
    "slideshow": {
     "slide_type": "fragment"
    }
   },
   "source": [
    "And to prove (2.):\n",
    "\n",
    "$$A(c{\\bf u}) = [{\\bf a_1\\;a_2\\;a_3}]\\left[\\begin{array}{r}c u_1\\\\c u_2\\\\c u_3\\end{array}\\right]$$"
   ]
  },
  {
   "cell_type": "markdown",
   "metadata": {
    "internals": {
     "frag_helper": "fragment_end",
     "frag_number": 71
    },
    "slideshow": {
     "slide_type": "fragment"
    }
   },
   "source": [
    "$$ = (c u_1){\\bf a_1} + (c u_2){\\bf a_2} + (c u_3){\\bf a_3}$$"
   ]
  },
  {
   "cell_type": "markdown",
   "metadata": {
    "internals": {
     "frag_helper": "fragment_end",
     "frag_number": 72
    },
    "slideshow": {
     "slide_type": "fragment"
    }
   },
   "source": [
    "$$= c (u_1{\\bf a_1}) + c (u_2{\\bf a_2}) + c (u_3{\\bf a_3})$$"
   ]
  },
  {
   "cell_type": "markdown",
   "metadata": {
    "internals": {
     "frag_helper": "fragment_end",
     "frag_number": 73
    },
    "slideshow": {
     "slide_type": "fragment"
    }
   },
   "source": [
    "$$= c (u_1{\\bf a_1} + u_2{\\bf a_2} + u_3{\\bf a_3})$$"
   ]
  },
  {
   "cell_type": "markdown",
   "metadata": {
    "internals": {
     "frag_helper": "fragment_end",
     "frag_number": 74,
     "slide_helper": "subslide_end"
    },
    "slide_helper": "slide_end",
    "slideshow": {
     "slide_type": "fragment"
    }
   },
   "source": [
    "$$= c (A{\\bf u}).$$"
   ]
  }
 ],
 "metadata": {
  "celltoolbar": "Slideshow",
  "kernelspec": {
   "display_name": "Python 3",
   "language": "python",
   "name": "python3"
  },
  "language_info": {
   "codemirror_mode": {
    "name": "ipython",
    "version": 3
   },
   "file_extension": ".py",
   "mimetype": "text/x-python",
   "name": "python",
   "nbconvert_exporter": "python",
   "pygments_lexer": "ipython3",
   "version": "3.5.1"
  }
 },
 "nbformat": 4,
 "nbformat_minor": 0
}
